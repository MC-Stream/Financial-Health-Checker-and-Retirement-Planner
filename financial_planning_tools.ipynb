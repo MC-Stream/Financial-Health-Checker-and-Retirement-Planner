{
 "cells": [
  {
   "cell_type": "markdown",
   "metadata": {
    "tags": []
   },
   "source": [
    "# Financial Planning with APIs and Simulations\n",
    "\n",
    "This is a Jupyter notebook that will offer clients a small financial planner for a possible emergency fund based on their current portfolio. And the members will be able to use this tool to forecast a reasonably effective retirement plan based on their current portfolio. We will show this to them with a 10 year and 30 year possible outcome of their portfolio based on different weighting strategies between their stocks and bonds.\n",
    "\n",
    "There are two financial analysis tools in this notebook:\n",
    "\n",
    "**Tool 1:** A financial planner for emergencies. The members will be able to use this tool to visualize their current savings. The members can then determine if they have enough reserves for an emergency fund.\n",
    "\n",
    "**Tool 2:** A financial planner for retirement. This tool will forecast the performance of their retirement portfolio in 30 years. To do this, the tool will make an Alpaca API call via the Alpaca SDK to get historical price data for use in Monte Carlo simulations. The information from the Monte Carlo simulation will be used to theorize answers about the portfolio and retirement possibilities."
   ]
  },
  {
   "cell_type": "code",
   "execution_count": 1,
   "metadata": {
    "tags": []
   },
   "outputs": [],
   "source": [
    "# Imports the required libraries and dependencies\n",
    "import os\n",
    "import requests\n",
    "import json\n",
    "import pandas as pd\n",
    "from dotenv import load_dotenv\n",
    "import alpaca_trade_api as tradeapi\n",
    "from MCForecastTools import MCSimulation\n",
    "\n",
    "%matplotlib inline"
   ]
  },
  {
   "cell_type": "code",
   "execution_count": 2,
   "metadata": {},
   "outputs": [
    {
     "data": {
      "text/plain": [
       "True"
      ]
     },
     "execution_count": 2,
     "metadata": {},
     "output_type": "execute_result"
    }
   ],
   "source": [
    "# Loads the environment variables from the .env file\n",
    "#by calling the load_dotenv function\n",
    "load_dotenv()"
   ]
  },
  {
   "cell_type": "markdown",
   "metadata": {},
   "source": [
    "## Tool 1: A Portfolio Organizer and a Financial Planner for Emergencies"
   ]
  },
  {
   "cell_type": "markdown",
   "metadata": {},
   "source": [
    "### Step 1: Evaluate the Cryptocurrency Wallet by Using the Requests Library\n",
    "\n",
    "This first tool will evaluate the current value of a member’s cryptocurrency wallet. It will collect the current prices for the Bitcoin and Ethereum cryptocurrencies by using the Python Requests library. For this prototype, we assume that the member holds the 1.2 Bitcoins (BTC) and 5.3 Ethereum coins (ETH) and that they earn a monthly income of $12,000."
   ]
  },
  {
   "cell_type": "code",
   "execution_count": 3,
   "metadata": {},
   "outputs": [],
   "source": [
    "# The current number of coins for each cryptocurrency asset held in the portfolio.\n",
    "btc_coins = 1.2\n",
    "eth_coins = 5.3"
   ]
  },
  {
   "cell_type": "code",
   "execution_count": 4,
   "metadata": {},
   "outputs": [],
   "source": [
    "# The monthly amount for the member's household income.\n",
    "monthly_income = 12000"
   ]
  },
  {
   "cell_type": "markdown",
   "metadata": {},
   "source": [
    "#### Collects the Cryptocurrency Information\n",
    "*    Note: This information will be retrieved and read in json format."
   ]
  },
  {
   "cell_type": "code",
   "execution_count": 5,
   "metadata": {},
   "outputs": [],
   "source": [
    "# The Free Crypto API Call endpoint URLs for the held cryptocurrency assets.\n",
    "btc_url = \"https://api.alternative.me/v2/ticker/Bitcoin/?convert=USD\"\n",
    "eth_url = \"https://api.alternative.me/v2/ticker/Ethereum/?convert=USD\""
   ]
  },
  {
   "cell_type": "code",
   "execution_count": 6,
   "metadata": {},
   "outputs": [
    {
     "name": "stdout",
     "output_type": "stream",
     "text": [
      "{\n",
      "    \"data\": {\n",
      "        \"1\": {\n",
      "            \"circulating_supply\": 19100512,\n",
      "            \"id\": 1,\n",
      "            \"last_updated\": 1658535275,\n",
      "            \"max_supply\": 21000000,\n",
      "            \"name\": \"Bitcoin\",\n",
      "            \"quotes\": {\n",
      "                \"USD\": {\n",
      "                    \"market_cap\": 433583498296,\n",
      "                    \"percent_change_1h\": -0.269686045239277,\n",
      "                    \"percent_change_24h\": -2.19193648349873,\n",
      "                    \"percent_change_7d\": 9.05196547363341,\n",
      "                    \"percentage_change_1h\": -0.269686045239277,\n",
      "                    \"percentage_change_24h\": -2.19193648349873,\n",
      "                    \"percentage_change_7d\": 9.05196547363341,\n",
      "                    \"price\": 22677.0,\n",
      "                    \"volume_24h\": 40648430399\n",
      "                }\n",
      "            },\n",
      "            \"rank\": 1,\n",
      "            \"symbol\": \"BTC\",\n",
      "            \"total_supply\": 19100512,\n",
      "            \"website_slug\": \"bitcoin\"\n",
      "        }\n",
      "    },\n",
      "    \"metadata\": {\n",
      "        \"error\": null,\n",
      "        \"num_cryptocurrencies\": 3116,\n",
      "        \"timestamp\": 1658535275\n",
      "    }\n",
      "}\n"
     ]
    }
   ],
   "source": [
    "# Using the Python requests library, it will make an API call to access the current price of BTC.\n",
    "btc_response = requests.get(btc_url).json()\n",
    "\n",
    "# Uses the json.dumps function to review the response data from the API call.\n",
    "# Uses the indent and sort_keys parameters to make the response object readable.\n",
    "print(json.dumps(btc_response, indent=4, sort_keys=True))"
   ]
  },
  {
   "cell_type": "code",
   "execution_count": 7,
   "metadata": {},
   "outputs": [
    {
     "name": "stdout",
     "output_type": "stream",
     "text": [
      "{\n",
      "    \"data\": {\n",
      "        \"1\": {\n",
      "            \"circulating_supply\": 19100512,\n",
      "            \"id\": 1,\n",
      "            \"last_updated\": 1658535275,\n",
      "            \"max_supply\": 21000000,\n",
      "            \"name\": \"Bitcoin\",\n",
      "            \"quotes\": {\n",
      "                \"USD\": {\n",
      "                    \"market_cap\": 433583498296,\n",
      "                    \"percent_change_1h\": -0.269686045239277,\n",
      "                    \"percent_change_24h\": -2.19193648349873,\n",
      "                    \"percent_change_7d\": 9.05196547363341,\n",
      "                    \"percentage_change_1h\": -0.269686045239277,\n",
      "                    \"percentage_change_24h\": -2.19193648349873,\n",
      "                    \"percentage_change_7d\": 9.05196547363341,\n",
      "                    \"price\": 22677.0,\n",
      "                    \"volume_24h\": 40648430399\n",
      "                }\n",
      "            },\n",
      "            \"rank\": 1,\n",
      "            \"symbol\": \"BTC\",\n",
      "            \"total_supply\": 19100512,\n",
      "            \"website_slug\": \"bitcoin\"\n",
      "        }\n",
      "    },\n",
      "    \"metadata\": {\n",
      "        \"error\": null,\n",
      "        \"num_cryptocurrencies\": 3116,\n",
      "        \"timestamp\": 1658535275\n",
      "    }\n",
      "}\n"
     ]
    }
   ],
   "source": [
    "# Using the Python requests library, it will make an API call to access the current price ETH.\n",
    "eth_response = requests.get(btc_url).json()\n",
    "\n",
    "# Uses the json.dumps function to review the response data from the API call.\n",
    "# Uses the indent and sort_keys parameters to make the response object readable.\n",
    "print(json.dumps(eth_response, indent=4, sort_keys=True))"
   ]
  },
  {
   "cell_type": "code",
   "execution_count": 8,
   "metadata": {},
   "outputs": [
    {
     "name": "stdout",
     "output_type": "stream",
     "text": [
      "The current price for Bitcoin is $ 22677.00.\n"
     ]
    }
   ],
   "source": [
    "# Navigates the BTC response object to access the current price of BTC.\n",
    "btc_price = btc_response['data']['1']['quotes']['USD']['price']\n",
    "\n",
    "# Prints the current price of BTC.\n",
    "print(f\"The current price for Bitcoin is ${btc_price: .2f}.\")"
   ]
  },
  {
   "cell_type": "code",
   "execution_count": 9,
   "metadata": {},
   "outputs": [
    {
     "name": "stdout",
     "output_type": "stream",
     "text": [
      "The current price for Ethereum is $ 22677.00.\n"
     ]
    }
   ],
   "source": [
    "# Navigates the ETH response object to access the current price of ETH.\n",
    "eth_price = eth_response['data']['1']['quotes']['USD']['price']\n",
    "\n",
    "# Prints the current price of ETH.\n",
    "print(f\"The current price for Ethereum is ${eth_price: .2f}.\")"
   ]
  },
  {
   "cell_type": "markdown",
   "metadata": {},
   "source": [
    "#### Evalutes the Wallet Information"
   ]
  },
  {
   "cell_type": "code",
   "execution_count": 10,
   "metadata": {},
   "outputs": [
    {
     "name": "stdout",
     "output_type": "stream",
     "text": [
      "The total current value of your Bitcoin in your cryptocurrency wallet is $ 27212.40.\n"
     ]
    }
   ],
   "source": [
    "# Computes the current value of the BTC holding.\n",
    "btc_value = btc_price * btc_coins\n",
    "\n",
    "# Prints current value of the holding in BTC.\n",
    "print(f\"The total current value of your Bitcoin in your cryptocurrency wallet is ${btc_value: .2f}.\")"
   ]
  },
  {
   "cell_type": "code",
   "execution_count": 11,
   "metadata": {},
   "outputs": [
    {
     "name": "stdout",
     "output_type": "stream",
     "text": [
      "The total current value of your Ethereum in your cryptocurrency wallet is $ 120188.10.\n"
     ]
    }
   ],
   "source": [
    "# Computes the current value of the ETH holding.\n",
    "eth_value = eth_price * eth_coins\n",
    "\n",
    "# Prints current value of the holding in ETH.\n",
    "print(f\"The total current value of your Ethereum in your cryptocurrency wallet is ${eth_value: .2f}.\")"
   ]
  },
  {
   "cell_type": "code",
   "execution_count": 12,
   "metadata": {},
   "outputs": [
    {
     "name": "stdout",
     "output_type": "stream",
     "text": [
      "The balance of your cryptocurrency wallet is $ 147400.50.\n"
     ]
    }
   ],
   "source": [
    "# Computes the total value of the cryptocurrency wallet by addiing all held cryptocurrency values together.\n",
    "total_crypto_wallet = btc_value + eth_value\n",
    "\n",
    "# Prints current cryptocurrency wallet balance.\n",
    "print(f\"The balance of your cryptocurrency wallet is ${total_crypto_wallet: .2f}.\")"
   ]
  },
  {
   "cell_type": "markdown",
   "metadata": {
    "tags": []
   },
   "source": [
    "### Step 2: Evaluate the Stock and Bond Holdings by Using the Alpaca SDK\n",
    "\n",
    "This part of the first tool will determine the current value of a member’s stock and bond holdings. It will make an API call to Alpaca via the Alpaca SDK to get the current closing prices of the SPDR S&P 500 ETF Trust (ticker: SPY) and of the iShares Core US Aggregate Bond ETF (ticker: AGG). For the prototype, we assume that the member holds 110 shares of SPY, which represents the stock portion of their portfolio, and 200 shares of AGG, which represents the bond portion."
   ]
  },
  {
   "cell_type": "code",
   "execution_count": 13,
   "metadata": {},
   "outputs": [],
   "source": [
    "# Current amount of shares held in both the stock (SPY) and bond (AGG) portion of the portfolio.\n",
    "spy_shares = 110\n",
    "agg_shares = 200"
   ]
  },
  {
   "cell_type": "markdown",
   "metadata": {},
   "source": [
    "##### **!!Please, make sure you have your .env file set up for this part or the notebook will be unhappy!!**"
   ]
  },
  {
   "cell_type": "markdown",
   "metadata": {},
   "source": [
    "#### Collects the Stock and Bond information from Alpca"
   ]
  },
  {
   "cell_type": "code",
   "execution_count": 14,
   "metadata": {},
   "outputs": [],
   "source": [
    "# Sets the variables for the Alpaca API and secret keys.\n",
    "alpaca_api_key = os.getenv(\"ALPACA_API_KEY\")\n",
    "alpaca_secret_key = os.getenv(\"ALPACA_SECRET_KEY\")"
   ]
  },
  {
   "cell_type": "code",
   "execution_count": 14,
   "metadata": {},
   "outputs": [],
   "source": [
    "# Creates the Alpaca tradeapi.REST object.\n",
    "alpaca = tradeapi.REST(\n",
    "    alpaca_api_key,\n",
    "    alpaca_secret_key,\n",
    "    api_version=\"v2\")"
   ]
  },
  {
   "cell_type": "code",
   "execution_count": 18,
   "metadata": {},
   "outputs": [],
   "source": [
    "# Sets the tickers for both the bond and stock portion of the portfolio.\n",
    "tickers = [\"SPY\",\"AGG\"]\n",
    "\n",
    "# Sets timeframe to 1Day.\n",
    "timeframe = \"1Day\"\n",
    "\n",
    "# Formats current date as ISO format and sets both the start and end date.\n",
    "# July 8, 2020 chosen for prototype purposes. It will normally use the previous date.\n",
    "start_date = pd.Timestamp(\"2020-08-07\", tz=\"America/New_York\").isoformat()\n",
    "end_date = pd.Timestamp(\"2020-08-07\", tz=\"America/New_York\").isoformat()"
   ]
  },
  {
   "cell_type": "code",
   "execution_count": 19,
   "metadata": {},
   "outputs": [],
   "source": [
    "# Uses the Alpaca get_bars function to get current closing prices for the stocks and bonds.\n",
    "closing_prices_df = alpaca.get_bars(\n",
    "    tickers,\n",
    "    timeframe,\n",
    "    start=start_date,\n",
    "    end=end_date\n",
    ").df"
   ]
  },
  {
   "cell_type": "code",
   "execution_count": 20,
   "metadata": {
    "tags": []
   },
   "outputs": [],
   "source": [
    "# Reorganizes the DataFrame to separate ticker data.\n",
    "SPY = closing_prices_df[closing_prices_df['symbol']=='SPY'].drop('symbol', axis=1)\n",
    "AGG = closing_prices_df[closing_prices_df['symbol']=='AGG'].drop('symbol', axis=1)\n",
    "\n",
    "# Concatenates the ticker DataFrames.\n",
    "closing_prices_df = pd.concat([SPY, AGG], axis=1, keys=[\"SPY\", \"AGG\"])\n",
    "\n",
    "# Updates the index for the `closing_prices_df` DataFrame to retain only the `date` component.\n",
    "closing_prices_df.index = closing_prices_df.index.date"
   ]
  },
  {
   "cell_type": "code",
   "execution_count": 26,
   "metadata": {},
   "outputs": [
    {
     "data": {
      "text/html": [
       "<div>\n",
       "<style scoped>\n",
       "    .dataframe tbody tr th:only-of-type {\n",
       "        vertical-align: middle;\n",
       "    }\n",
       "\n",
       "    .dataframe tbody tr th {\n",
       "        vertical-align: top;\n",
       "    }\n",
       "\n",
       "    .dataframe thead tr th {\n",
       "        text-align: left;\n",
       "    }\n",
       "</style>\n",
       "<table border=\"1\" class=\"dataframe\">\n",
       "  <thead>\n",
       "    <tr>\n",
       "      <th></th>\n",
       "      <th colspan=\"7\" halign=\"left\">SPY</th>\n",
       "      <th colspan=\"7\" halign=\"left\">AGG</th>\n",
       "    </tr>\n",
       "    <tr>\n",
       "      <th></th>\n",
       "      <th>open</th>\n",
       "      <th>high</th>\n",
       "      <th>low</th>\n",
       "      <th>close</th>\n",
       "      <th>volume</th>\n",
       "      <th>trade_count</th>\n",
       "      <th>vwap</th>\n",
       "      <th>open</th>\n",
       "      <th>high</th>\n",
       "      <th>low</th>\n",
       "      <th>close</th>\n",
       "      <th>volume</th>\n",
       "      <th>trade_count</th>\n",
       "      <th>vwap</th>\n",
       "    </tr>\n",
       "  </thead>\n",
       "  <tbody>\n",
       "    <tr>\n",
       "      <th>2020-08-07</th>\n",
       "      <td>333.29</td>\n",
       "      <td>334.88</td>\n",
       "      <td>332.3</td>\n",
       "      <td>334.57</td>\n",
       "      <td>57282821</td>\n",
       "      <td>350100</td>\n",
       "      <td>333.800372</td>\n",
       "      <td>119.66</td>\n",
       "      <td>119.73</td>\n",
       "      <td>119.395</td>\n",
       "      <td>119.43</td>\n",
       "      <td>5559066</td>\n",
       "      <td>15246</td>\n",
       "      <td>119.475306</td>\n",
       "    </tr>\n",
       "  </tbody>\n",
       "</table>\n",
       "</div>"
      ],
      "text/plain": [
       "               SPY                                                           \\\n",
       "              open    high    low   close    volume trade_count        vwap   \n",
       "2020-08-07  333.29  334.88  332.3  334.57  57282821      350100  333.800372   \n",
       "\n",
       "               AGG                                                            \n",
       "              open    high      low   close   volume trade_count        vwap  \n",
       "2020-08-07  119.66  119.73  119.395  119.43  5559066       15246  119.475306  "
      ]
     },
     "execution_count": 26,
     "metadata": {},
     "output_type": "execute_result"
    }
   ],
   "source": [
    "# Reviews the first 5 rows of the Alpaca DataFrame.\n",
    "closing_prices_df.head()"
   ]
  },
  {
   "cell_type": "code",
   "execution_count": 36,
   "metadata": {},
   "outputs": [
    {
     "name": "stdout",
     "output_type": "stream",
     "text": [
      "The closing price for AGG was $119.43.\n"
     ]
    }
   ],
   "source": [
    "# Accesses the closing price for AGG from the Alpaca DataFrame.\n",
    "# Converting the value to a floating point number.\n",
    "agg_close_price = closing_prices_df[\"AGG\"]\n",
    "agg_close_price = float(agg_close_price[\"close\"])\n",
    "\n",
    "# Prints the AGG closing price.\n",
    "print(f\"The closing price for AGG was ${agg_close_price}.\")"
   ]
  },
  {
   "cell_type": "code",
   "execution_count": 37,
   "metadata": {
    "tags": []
   },
   "outputs": [
    {
     "name": "stdout",
     "output_type": "stream",
     "text": [
      "The closing price for SPY was $334.57.\n"
     ]
    }
   ],
   "source": [
    "# Accesses the closing price for SPY from the Alpaca DataFrame.\n",
    "# Converting the value to a floating point number.\n",
    "spy_close_price = closing_prices_df[\"SPY\"]\n",
    "spy_close_price = float(spy_close_price[\"close\"])\n",
    "\n",
    "# Prints the SPY closing price.\n",
    "print(f\"The closing price for SPY was ${spy_close_price}.\")"
   ]
  },
  {
   "cell_type": "markdown",
   "metadata": {},
   "source": [
    "#### Calculates the Values of the Stocks and Bonds"
   ]
  },
  {
   "cell_type": "code",
   "execution_count": 39,
   "metadata": {},
   "outputs": [
    {
     "name": "stdout",
     "output_type": "stream",
     "text": [
      "The current value of the AGG shares is $ 23886.00.\n"
     ]
    }
   ],
   "source": [
    "# Calculates the current value of the bond portion of the portfolio.\n",
    "agg_value = agg_close_price * agg_shares\n",
    "\n",
    "# Prints the current value of the bond portfolio\n",
    "print(f\"The current value of the AGG shares is ${agg_value: .2f}.\")"
   ]
  },
  {
   "cell_type": "code",
   "execution_count": 40,
   "metadata": {},
   "outputs": [
    {
     "name": "stdout",
     "output_type": "stream",
     "text": [
      "The current value of the SPY shares is $ 36802.70.\n"
     ]
    }
   ],
   "source": [
    "# Calculates the current value of the stock portion of the portfolio.\n",
    "spy_value = spy_close_price * spy_shares\n",
    "\n",
    "# Prints the current value of the stock portfolio.\n",
    "print(f\"The current value of the SPY shares is ${spy_value: .2f}.\")"
   ]
  },
  {
   "cell_type": "code",
   "execution_count": 42,
   "metadata": {},
   "outputs": [
    {
     "name": "stdout",
     "output_type": "stream",
     "text": [
      "The total balance of your current portfolio is $ 60688.70.\n"
     ]
    }
   ],
   "source": [
    "# Calculates the total value of the stock and bond portion of the portfolio.\n",
    "total_stocks_bonds = agg_value + spy_value\n",
    "\n",
    "# Prints the current balance of the stock and bond portion of the portfolio.\n",
    "print(f\"The total balance of the stock and bond portion of the portfolio is ${total_stocks_bonds: .2f}.\")"
   ]
  },
  {
   "cell_type": "markdown",
   "metadata": {},
   "source": [
    "##### Total Balance"
   ]
  },
  {
   "cell_type": "code",
   "execution_count": 43,
   "metadata": {},
   "outputs": [
    {
     "name": "stdout",
     "output_type": "stream",
     "text": [
      "The total balance of the entire portfolio is $ 208089.20.\n"
     ]
    }
   ],
   "source": [
    "# Calculates the total value of the member's entire savings portfolio by...\n",
    "    # adding the value of the cryptocurrency wallet to the value of the total stocks and bonds.\n",
    "total_portfolio = total_stocks_bonds + total_crypto_wallet\n",
    "\n",
    "# Prints the total portfolio balance.\n",
    "print(f\"The total balance of the entire portfolio is ${total_portfolio: .2f}.\")"
   ]
  },
  {
   "cell_type": "markdown",
   "metadata": {},
   "source": [
    "### Step 3: Evaluate the Emergency Fund\n",
    "\n",
    "This part of the tool will use the valuations for the cryptocurrency wallet and for the stock and bond portions of the portfolio to determine if the credit union member has enough savings to build an emergency fund into their financial plan. This fund should be equal to 3x their current monthly income."
   ]
  },
  {
   "cell_type": "markdown",
   "metadata": {
    "tags": []
   },
   "source": [
    "#### Create and Review the Savings Data"
   ]
  },
  {
   "cell_type": "code",
   "execution_count": 44,
   "metadata": {},
   "outputs": [
    {
     "data": {
      "text/plain": [
       "[147400.5, 60688.7]"
      ]
     },
     "execution_count": 44,
     "metadata": {},
     "output_type": "execute_result"
    }
   ],
   "source": [
    "# Consolidates financial assets data into a Python list.\n",
    "savings_data = [total_crypto_wallet, total_stocks_bonds]\n",
    "\n",
    "# Reviews the Python list savings_data.\n",
    "savings_data    "
   ]
  },
  {
   "cell_type": "code",
   "execution_count": 69,
   "metadata": {},
   "outputs": [
    {
     "data": {
      "text/plain": [
       "147400.5"
      ]
     },
     "metadata": {},
     "output_type": "display_data"
    },
    {
     "data": {
      "text/plain": [
       "60688.7"
      ]
     },
     "metadata": {},
     "output_type": "display_data"
    },
    {
     "data": {
      "text/html": [
       "<div>\n",
       "<style scoped>\n",
       "    .dataframe tbody tr th:only-of-type {\n",
       "        vertical-align: middle;\n",
       "    }\n",
       "\n",
       "    .dataframe tbody tr th {\n",
       "        vertical-align: top;\n",
       "    }\n",
       "\n",
       "    .dataframe thead th {\n",
       "        text-align: right;\n",
       "    }\n",
       "</style>\n",
       "<table border=\"1\" class=\"dataframe\">\n",
       "  <thead>\n",
       "    <tr style=\"text-align: right;\">\n",
       "      <th></th>\n",
       "      <th>amount</th>\n",
       "    </tr>\n",
       "  </thead>\n",
       "  <tbody>\n",
       "    <tr>\n",
       "      <th>crypto</th>\n",
       "      <td>147400.5</td>\n",
       "    </tr>\n",
       "    <tr>\n",
       "      <th>stock/bond</th>\n",
       "      <td>60688.7</td>\n",
       "    </tr>\n",
       "  </tbody>\n",
       "</table>\n",
       "</div>"
      ],
      "text/plain": [
       "              amount\n",
       "crypto      147400.5\n",
       "stock/bond   60688.7"
      ]
     },
     "execution_count": 69,
     "metadata": {},
     "output_type": "execute_result"
    }
   ],
   "source": [
    "# Creates a Pandas DataFrame called savings_df.\n",
    "savings_df = pd.DataFrame(savings_data, columns = [\"amount\"], index = [\"crypto\", \"stock/bond\"])\n",
    "\n",
    "# Displays the savings_df DataFrame.\n",
    "savings_df"
   ]
  },
  {
   "cell_type": "code",
   "execution_count": 110,
   "metadata": {},
   "outputs": [
    {
     "data": {
      "text/plain": [
       "array([<AxesSubplot:ylabel='amount'>], dtype=object)"
      ]
     },
     "execution_count": 110,
     "metadata": {},
     "output_type": "execute_result"
    },
    {
     "data": {
      "image/png": "[encoded data removed]",
      "text/plain": [
       "<Figure size 432x288 with 1 Axes>"
      ]
     },
     "metadata": {},
     "output_type": "display_data"
    }
   ],
   "source": [
    "# Plots the total value of the member's portfolio (crypto and stock/bond) in a pie chart.\n",
    "# This allows the client to have a visual idea of the amount of each asset in the portfolio.\n",
    "savings_df.plot.pie(subplots = True, title = \"Portfolio Value\")"
   ]
  },
  {
   "cell_type": "markdown",
   "metadata": {},
   "source": [
    "#### Emergency Fund"
   ]
  },
  {
   "cell_type": "code",
   "execution_count": 71,
   "metadata": {},
   "outputs": [],
   "source": [
    "# Creates a variable named emergency_fund_value to hold our pre-described number.\n",
    "emergency_fund_value = monthly_income * 3"
   ]
  },
  {
   "cell_type": "code",
   "execution_count": 111,
   "metadata": {},
   "outputs": [
    {
     "name": "stdout",
     "output_type": "stream",
     "text": [
      "Great news! You have more than enough money in your portfolio to cover a financial emergency fund.\n"
     ]
    }
   ],
   "source": [
    "# Evaluates the possibility of creating an emergency fund with 3 conditions...\n",
    "    # and prints the outcome for the client.\n",
    "if emergency_fund_value < total_portfolio:\n",
    "    print(\"Great news! You have more than enough money in your portfolio to cover a financial emergency fund.\")\n",
    "    \n",
    "elif emergency_fund_value == total_portfolio:\n",
    "    print(\"Great job! Your portfolio is just enough to work as a possible financial emergency fund.\")\n",
    "    \n",
    "else:\n",
    "    under_value = emergency_fund_value - total_portfolio\n",
    "    print(f\"You are doing well. Your portfolio is ${under_value} short of working as a possible financial emergency fund.\")"
   ]
  },
  {
   "cell_type": "markdown",
   "metadata": {},
   "source": [
    "## Tool 2: A Financial Planner for Retirement"
   ]
  },
  {
   "cell_type": "markdown",
   "metadata": {},
   "source": [
    "#### Step 1: Make an API call via the Alpaca SDK to get 3 years of historical closing prices for a traditional 60/40 portfolio split: 60% stocks (SPY) and 40% bonds (AGG)."
   ]
  },
  {
   "cell_type": "code",
   "execution_count": 78,
   "metadata": {},
   "outputs": [],
   "source": [
    "# Sets start and end dates of 3 years back from your current date.\n",
    "# For the prototpye we are using 2020-08-07 and work 3 years back from that date. \n",
    "start_date = pd.Timestamp(\"2017-08-07\", tz=\"America/New_York\").isoformat()\n",
    "end_date = pd.Timestamp(\"2020-08-07\", tz=\"America/New_York\").isoformat()"
   ]
  },
  {
   "cell_type": "code",
   "execution_count": 79,
   "metadata": {},
   "outputs": [],
   "source": [
    "# Uses the Alpaca get_bars function to make the API call to get the 3 years worth of pricing data.\n",
    "# The tickers and timeframe parameters were set in Tool 1.\n",
    "# The start and end dates are updated with the information set above.\n",
    "sb3year_prices_df = alpaca.get_bars(\n",
    "    tickers,\n",
    "    timeframe,\n",
    "    start=start_date,\n",
    "    end=end_date\n",
    ").df"
   ]
  },
  {
   "cell_type": "code",
   "execution_count": 80,
   "metadata": {},
   "outputs": [
    {
     "data": {
      "text/html": [
       "<div>\n",
       "<style scoped>\n",
       "    .dataframe tbody tr th:only-of-type {\n",
       "        vertical-align: middle;\n",
       "    }\n",
       "\n",
       "    .dataframe tbody tr th {\n",
       "        vertical-align: top;\n",
       "    }\n",
       "\n",
       "    .dataframe thead tr th {\n",
       "        text-align: left;\n",
       "    }\n",
       "</style>\n",
       "<table border=\"1\" class=\"dataframe\">\n",
       "  <thead>\n",
       "    <tr>\n",
       "      <th></th>\n",
       "      <th colspan=\"7\" halign=\"left\">SPY</th>\n",
       "      <th colspan=\"7\" halign=\"left\">AGG</th>\n",
       "    </tr>\n",
       "    <tr>\n",
       "      <th></th>\n",
       "      <th>open</th>\n",
       "      <th>high</th>\n",
       "      <th>low</th>\n",
       "      <th>close</th>\n",
       "      <th>volume</th>\n",
       "      <th>trade_count</th>\n",
       "      <th>vwap</th>\n",
       "      <th>open</th>\n",
       "      <th>high</th>\n",
       "      <th>low</th>\n",
       "      <th>close</th>\n",
       "      <th>volume</th>\n",
       "      <th>trade_count</th>\n",
       "      <th>vwap</th>\n",
       "    </tr>\n",
       "  </thead>\n",
       "  <tbody>\n",
       "    <tr>\n",
       "      <th>2017-08-07</th>\n",
       "      <td>247.50</td>\n",
       "      <td>247.87</td>\n",
       "      <td>247.37</td>\n",
       "      <td>247.87</td>\n",
       "      <td>31995021</td>\n",
       "      <td>100111</td>\n",
       "      <td>247.668698</td>\n",
       "      <td>109.69</td>\n",
       "      <td>109.72</td>\n",
       "      <td>109.6066</td>\n",
       "      <td>109.67</td>\n",
       "      <td>2359826</td>\n",
       "      <td>7755</td>\n",
       "      <td>109.674876</td>\n",
       "    </tr>\n",
       "    <tr>\n",
       "      <th>2017-08-08</th>\n",
       "      <td>247.49</td>\n",
       "      <td>248.91</td>\n",
       "      <td>246.83</td>\n",
       "      <td>247.26</td>\n",
       "      <td>61719353</td>\n",
       "      <td>192921</td>\n",
       "      <td>247.739709</td>\n",
       "      <td>109.67</td>\n",
       "      <td>109.69</td>\n",
       "      <td>109.5000</td>\n",
       "      <td>109.57</td>\n",
       "      <td>2570876</td>\n",
       "      <td>12663</td>\n",
       "      <td>109.577636</td>\n",
       "    </tr>\n",
       "    <tr>\n",
       "      <th>2017-08-09</th>\n",
       "      <td>246.46</td>\n",
       "      <td>247.31</td>\n",
       "      <td>246.06</td>\n",
       "      <td>247.25</td>\n",
       "      <td>62632619</td>\n",
       "      <td>223650</td>\n",
       "      <td>246.791421</td>\n",
       "      <td>109.87</td>\n",
       "      <td>109.87</td>\n",
       "      <td>109.6600</td>\n",
       "      <td>109.67</td>\n",
       "      <td>2308932</td>\n",
       "      <td>11031</td>\n",
       "      <td>109.771749</td>\n",
       "    </tr>\n",
       "    <tr>\n",
       "      <th>2017-08-10</th>\n",
       "      <td>246.30</td>\n",
       "      <td>246.44</td>\n",
       "      <td>243.70</td>\n",
       "      <td>243.76</td>\n",
       "      <td>120418270</td>\n",
       "      <td>424321</td>\n",
       "      <td>245.027847</td>\n",
       "      <td>109.70</td>\n",
       "      <td>109.85</td>\n",
       "      <td>109.6700</td>\n",
       "      <td>109.78</td>\n",
       "      <td>2004163</td>\n",
       "      <td>12437</td>\n",
       "      <td>109.776611</td>\n",
       "    </tr>\n",
       "    <tr>\n",
       "      <th>2017-08-11</th>\n",
       "      <td>244.00</td>\n",
       "      <td>244.80</td>\n",
       "      <td>243.75</td>\n",
       "      <td>244.12</td>\n",
       "      <td>74869947</td>\n",
       "      <td>278786</td>\n",
       "      <td>244.222867</td>\n",
       "      <td>109.75</td>\n",
       "      <td>109.94</td>\n",
       "      <td>109.6800</td>\n",
       "      <td>109.87</td>\n",
       "      <td>1913253</td>\n",
       "      <td>10113</td>\n",
       "      <td>109.860974</td>\n",
       "    </tr>\n",
       "  </tbody>\n",
       "</table>\n",
       "</div>"
      ],
      "text/plain": [
       "               SPY                                                             \\\n",
       "              open    high     low   close     volume trade_count        vwap   \n",
       "2017-08-07  247.50  247.87  247.37  247.87   31995021      100111  247.668698   \n",
       "2017-08-08  247.49  248.91  246.83  247.26   61719353      192921  247.739709   \n",
       "2017-08-09  246.46  247.31  246.06  247.25   62632619      223650  246.791421   \n",
       "2017-08-10  246.30  246.44  243.70  243.76  120418270      424321  245.027847   \n",
       "2017-08-11  244.00  244.80  243.75  244.12   74869947      278786  244.222867   \n",
       "\n",
       "               AGG                                                             \n",
       "              open    high       low   close   volume trade_count        vwap  \n",
       "2017-08-07  109.69  109.72  109.6066  109.67  2359826        7755  109.674876  \n",
       "2017-08-08  109.67  109.69  109.5000  109.57  2570876       12663  109.577636  \n",
       "2017-08-09  109.87  109.87  109.6600  109.67  2308932       11031  109.771749  \n",
       "2017-08-10  109.70  109.85  109.6700  109.78  2004163       12437  109.776611  \n",
       "2017-08-11  109.75  109.94  109.6800  109.87  1913253       10113  109.860974  "
      ]
     },
     "metadata": {},
     "output_type": "display_data"
    },
    {
     "data": {
      "text/html": [
       "<div>\n",
       "<style scoped>\n",
       "    .dataframe tbody tr th:only-of-type {\n",
       "        vertical-align: middle;\n",
       "    }\n",
       "\n",
       "    .dataframe tbody tr th {\n",
       "        vertical-align: top;\n",
       "    }\n",
       "\n",
       "    .dataframe thead tr th {\n",
       "        text-align: left;\n",
       "    }\n",
       "</style>\n",
       "<table border=\"1\" class=\"dataframe\">\n",
       "  <thead>\n",
       "    <tr>\n",
       "      <th></th>\n",
       "      <th colspan=\"7\" halign=\"left\">SPY</th>\n",
       "      <th colspan=\"7\" halign=\"left\">AGG</th>\n",
       "    </tr>\n",
       "    <tr>\n",
       "      <th></th>\n",
       "      <th>open</th>\n",
       "      <th>high</th>\n",
       "      <th>low</th>\n",
       "      <th>close</th>\n",
       "      <th>volume</th>\n",
       "      <th>trade_count</th>\n",
       "      <th>vwap</th>\n",
       "      <th>open</th>\n",
       "      <th>high</th>\n",
       "      <th>low</th>\n",
       "      <th>close</th>\n",
       "      <th>volume</th>\n",
       "      <th>trade_count</th>\n",
       "      <th>vwap</th>\n",
       "    </tr>\n",
       "  </thead>\n",
       "  <tbody>\n",
       "    <tr>\n",
       "      <th>2020-08-03</th>\n",
       "      <td>328.31</td>\n",
       "      <td>329.62</td>\n",
       "      <td>327.73</td>\n",
       "      <td>328.79</td>\n",
       "      <td>53080454</td>\n",
       "      <td>288008</td>\n",
       "      <td>328.658804</td>\n",
       "      <td>119.37</td>\n",
       "      <td>119.40</td>\n",
       "      <td>119.1903</td>\n",
       "      <td>119.40</td>\n",
       "      <td>13014535</td>\n",
       "      <td>36359</td>\n",
       "      <td>119.282420</td>\n",
       "    </tr>\n",
       "    <tr>\n",
       "      <th>2020-08-04</th>\n",
       "      <td>327.88</td>\n",
       "      <td>330.06</td>\n",
       "      <td>327.86</td>\n",
       "      <td>330.06</td>\n",
       "      <td>41918004</td>\n",
       "      <td>250900</td>\n",
       "      <td>329.057593</td>\n",
       "      <td>119.42</td>\n",
       "      <td>119.63</td>\n",
       "      <td>119.4200</td>\n",
       "      <td>119.63</td>\n",
       "      <td>10935181</td>\n",
       "      <td>39114</td>\n",
       "      <td>119.541666</td>\n",
       "    </tr>\n",
       "    <tr>\n",
       "      <th>2020-08-05</th>\n",
       "      <td>331.46</td>\n",
       "      <td>332.39</td>\n",
       "      <td>331.18</td>\n",
       "      <td>332.11</td>\n",
       "      <td>42870955</td>\n",
       "      <td>241416</td>\n",
       "      <td>331.791643</td>\n",
       "      <td>119.39</td>\n",
       "      <td>119.49</td>\n",
       "      <td>119.3100</td>\n",
       "      <td>119.40</td>\n",
       "      <td>17377874</td>\n",
       "      <td>42313</td>\n",
       "      <td>119.387245</td>\n",
       "    </tr>\n",
       "    <tr>\n",
       "      <th>2020-08-06</th>\n",
       "      <td>331.52</td>\n",
       "      <td>334.46</td>\n",
       "      <td>331.13</td>\n",
       "      <td>334.33</td>\n",
       "      <td>43745653</td>\n",
       "      <td>290039</td>\n",
       "      <td>332.937218</td>\n",
       "      <td>119.62</td>\n",
       "      <td>119.73</td>\n",
       "      <td>119.5300</td>\n",
       "      <td>119.57</td>\n",
       "      <td>4608710</td>\n",
       "      <td>15938</td>\n",
       "      <td>119.604199</td>\n",
       "    </tr>\n",
       "    <tr>\n",
       "      <th>2020-08-07</th>\n",
       "      <td>333.29</td>\n",
       "      <td>334.88</td>\n",
       "      <td>332.30</td>\n",
       "      <td>334.57</td>\n",
       "      <td>57282821</td>\n",
       "      <td>350100</td>\n",
       "      <td>333.800372</td>\n",
       "      <td>119.66</td>\n",
       "      <td>119.73</td>\n",
       "      <td>119.3950</td>\n",
       "      <td>119.43</td>\n",
       "      <td>5559066</td>\n",
       "      <td>15246</td>\n",
       "      <td>119.475306</td>\n",
       "    </tr>\n",
       "  </tbody>\n",
       "</table>\n",
       "</div>"
      ],
      "text/plain": [
       "               SPY                                                            \\\n",
       "              open    high     low   close    volume trade_count        vwap   \n",
       "2020-08-03  328.31  329.62  327.73  328.79  53080454      288008  328.658804   \n",
       "2020-08-04  327.88  330.06  327.86  330.06  41918004      250900  329.057593   \n",
       "2020-08-05  331.46  332.39  331.18  332.11  42870955      241416  331.791643   \n",
       "2020-08-06  331.52  334.46  331.13  334.33  43745653      290039  332.937218   \n",
       "2020-08-07  333.29  334.88  332.30  334.57  57282821      350100  333.800372   \n",
       "\n",
       "               AGG                                                              \n",
       "              open    high       low   close    volume trade_count        vwap  \n",
       "2020-08-03  119.37  119.40  119.1903  119.40  13014535       36359  119.282420  \n",
       "2020-08-04  119.42  119.63  119.4200  119.63  10935181       39114  119.541666  \n",
       "2020-08-05  119.39  119.49  119.3100  119.40  17377874       42313  119.387245  \n",
       "2020-08-06  119.62  119.73  119.5300  119.57   4608710       15938  119.604199  \n",
       "2020-08-07  119.66  119.73  119.3950  119.43   5559066       15246  119.475306  "
      ]
     },
     "metadata": {},
     "output_type": "display_data"
    }
   ],
   "source": [
    "# Reorganizes the DataFrame and separates ticker data.\n",
    "SPY = sb3year_prices_df[sb3year_prices_df['symbol']=='SPY'].drop('symbol', axis=1)\n",
    "AGG = sb3year_prices_df[sb3year_prices_df['symbol']=='AGG'].drop('symbol', axis=1)\n",
    "\n",
    "# Concatenates the ticker DataFrames.\n",
    "sb3year_prices_df = pd.concat([SPY, AGG], axis=1, keys=[\"SPY\", \"AGG\"])\n",
    "\n",
    "# Updates the index to retain only the `date` component.\n",
    "sb3year_prices_df.index = sb3year_prices_df.index.date\n",
    "\n",
    "# Displays both the first and last five rows of the DataFrame.\n",
    "display(sb3year_prices_df.head())\n",
    "display(sb3year_prices_df.tail())"
   ]
  },
  {
   "cell_type": "markdown",
   "metadata": {
    "tags": []
   },
   "source": [
    "#### Step 2: Run a Monte Carlo simulation of 500 samples and 30 years for the 60/40 portfolio, and then plot the results."
   ]
  },
  {
   "cell_type": "code",
   "execution_count": 114,
   "metadata": {},
   "outputs": [
    {
     "data": {
      "text/html": [
       "<div>\n",
       "<style scoped>\n",
       "    .dataframe tbody tr th:only-of-type {\n",
       "        vertical-align: middle;\n",
       "    }\n",
       "\n",
       "    .dataframe tbody tr th {\n",
       "        vertical-align: top;\n",
       "    }\n",
       "\n",
       "    .dataframe thead tr th {\n",
       "        text-align: left;\n",
       "    }\n",
       "</style>\n",
       "<table border=\"1\" class=\"dataframe\">\n",
       "  <thead>\n",
       "    <tr>\n",
       "      <th></th>\n",
       "      <th colspan=\"8\" halign=\"left\">SPY</th>\n",
       "      <th colspan=\"8\" halign=\"left\">AGG</th>\n",
       "    </tr>\n",
       "    <tr>\n",
       "      <th></th>\n",
       "      <th>open</th>\n",
       "      <th>high</th>\n",
       "      <th>low</th>\n",
       "      <th>close</th>\n",
       "      <th>volume</th>\n",
       "      <th>trade_count</th>\n",
       "      <th>vwap</th>\n",
       "      <th>daily_return</th>\n",
       "      <th>open</th>\n",
       "      <th>high</th>\n",
       "      <th>low</th>\n",
       "      <th>close</th>\n",
       "      <th>volume</th>\n",
       "      <th>trade_count</th>\n",
       "      <th>vwap</th>\n",
       "      <th>daily_return</th>\n",
       "    </tr>\n",
       "  </thead>\n",
       "  <tbody>\n",
       "    <tr>\n",
       "      <th>2017-08-07</th>\n",
       "      <td>247.50</td>\n",
       "      <td>247.87</td>\n",
       "      <td>247.37</td>\n",
       "      <td>247.87</td>\n",
       "      <td>31995021</td>\n",
       "      <td>100111</td>\n",
       "      <td>247.668698</td>\n",
       "      <td>NaN</td>\n",
       "      <td>109.69</td>\n",
       "      <td>109.72</td>\n",
       "      <td>109.6066</td>\n",
       "      <td>109.67</td>\n",
       "      <td>2359826</td>\n",
       "      <td>7755</td>\n",
       "      <td>109.674876</td>\n",
       "      <td>NaN</td>\n",
       "    </tr>\n",
       "    <tr>\n",
       "      <th>2017-08-08</th>\n",
       "      <td>247.49</td>\n",
       "      <td>248.91</td>\n",
       "      <td>246.83</td>\n",
       "      <td>247.26</td>\n",
       "      <td>61719353</td>\n",
       "      <td>192921</td>\n",
       "      <td>247.739709</td>\n",
       "      <td>-0.002461</td>\n",
       "      <td>109.67</td>\n",
       "      <td>109.69</td>\n",
       "      <td>109.5000</td>\n",
       "      <td>109.57</td>\n",
       "      <td>2570876</td>\n",
       "      <td>12663</td>\n",
       "      <td>109.577636</td>\n",
       "      <td>-0.000912</td>\n",
       "    </tr>\n",
       "    <tr>\n",
       "      <th>2017-08-09</th>\n",
       "      <td>246.46</td>\n",
       "      <td>247.31</td>\n",
       "      <td>246.06</td>\n",
       "      <td>247.25</td>\n",
       "      <td>62632619</td>\n",
       "      <td>223650</td>\n",
       "      <td>246.791421</td>\n",
       "      <td>-0.000040</td>\n",
       "      <td>109.87</td>\n",
       "      <td>109.87</td>\n",
       "      <td>109.6600</td>\n",
       "      <td>109.67</td>\n",
       "      <td>2308932</td>\n",
       "      <td>11031</td>\n",
       "      <td>109.771749</td>\n",
       "      <td>0.000913</td>\n",
       "    </tr>\n",
       "    <tr>\n",
       "      <th>2017-08-10</th>\n",
       "      <td>246.30</td>\n",
       "      <td>246.44</td>\n",
       "      <td>243.70</td>\n",
       "      <td>243.76</td>\n",
       "      <td>120418270</td>\n",
       "      <td>424321</td>\n",
       "      <td>245.027847</td>\n",
       "      <td>-0.014115</td>\n",
       "      <td>109.70</td>\n",
       "      <td>109.85</td>\n",
       "      <td>109.6700</td>\n",
       "      <td>109.78</td>\n",
       "      <td>2004163</td>\n",
       "      <td>12437</td>\n",
       "      <td>109.776611</td>\n",
       "      <td>0.001003</td>\n",
       "    </tr>\n",
       "    <tr>\n",
       "      <th>2017-08-11</th>\n",
       "      <td>244.00</td>\n",
       "      <td>244.80</td>\n",
       "      <td>243.75</td>\n",
       "      <td>244.12</td>\n",
       "      <td>74869947</td>\n",
       "      <td>278786</td>\n",
       "      <td>244.222867</td>\n",
       "      <td>0.001477</td>\n",
       "      <td>109.75</td>\n",
       "      <td>109.94</td>\n",
       "      <td>109.6800</td>\n",
       "      <td>109.87</td>\n",
       "      <td>1913253</td>\n",
       "      <td>10113</td>\n",
       "      <td>109.860974</td>\n",
       "      <td>0.000820</td>\n",
       "    </tr>\n",
       "  </tbody>\n",
       "</table>\n",
       "</div>"
      ],
      "text/plain": [
       "               SPY                                                             \\\n",
       "              open    high     low   close     volume trade_count        vwap   \n",
       "2017-08-07  247.50  247.87  247.37  247.87   31995021      100111  247.668698   \n",
       "2017-08-08  247.49  248.91  246.83  247.26   61719353      192921  247.739709   \n",
       "2017-08-09  246.46  247.31  246.06  247.25   62632619      223650  246.791421   \n",
       "2017-08-10  246.30  246.44  243.70  243.76  120418270      424321  245.027847   \n",
       "2017-08-11  244.00  244.80  243.75  244.12   74869947      278786  244.222867   \n",
       "\n",
       "                            AGG                                     \\\n",
       "           daily_return    open    high       low   close   volume   \n",
       "2017-08-07          NaN  109.69  109.72  109.6066  109.67  2359826   \n",
       "2017-08-08    -0.002461  109.67  109.69  109.5000  109.57  2570876   \n",
       "2017-08-09    -0.000040  109.87  109.87  109.6600  109.67  2308932   \n",
       "2017-08-10    -0.014115  109.70  109.85  109.6700  109.78  2004163   \n",
       "2017-08-11     0.001477  109.75  109.94  109.6800  109.87  1913253   \n",
       "\n",
       "                                                 \n",
       "           trade_count        vwap daily_return  \n",
       "2017-08-07        7755  109.674876          NaN  \n",
       "2017-08-08       12663  109.577636    -0.000912  \n",
       "2017-08-09       11031  109.771749     0.000913  \n",
       "2017-08-10       12437  109.776611     0.001003  \n",
       "2017-08-11       10113  109.860974     0.000820  "
      ]
     },
     "execution_count": 114,
     "metadata": {},
     "output_type": "execute_result"
    }
   ],
   "source": [
    "# Configures the Monte Carlo simulation to forecast 30 years cumulative returns.\n",
    "# The weights are split 60% to SPY and 40% to AGG and run 500 samples.\n",
    "MC_thirtyyear = MCSimulation(\n",
    "    portfolio_data = sb3year_prices_df,\n",
    "    weights = [.60,.40],\n",
    "    num_simulation = 500,\n",
    "    num_trading_days = 252*30)\n",
    "\n",
    "# Reviews the simulation input data.\n",
    "MC_thirtyyear.portfolio_data.head()"
   ]
  },
  {
   "cell_type": "code",
   "execution_count": 115,
   "metadata": {},
   "outputs": [
    {
     "name": "stdout",
     "output_type": "stream",
     "text": [
      "Running Monte Carlo simulation number 0.\n",
      "Running Monte Carlo simulation number 10.\n",
      "Running Monte Carlo simulation number 20.\n",
      "Running Monte Carlo simulation number 30.\n",
      "Running Monte Carlo simulation number 40.\n",
      "Running Monte Carlo simulation number 50.\n",
      "Running Monte Carlo simulation number 60.\n",
      "Running Monte Carlo simulation number 70.\n",
      "Running Monte Carlo simulation number 80.\n",
      "Running Monte Carlo simulation number 90.\n",
      "Running Monte Carlo simulation number 100.\n",
      "Running Monte Carlo simulation number 110.\n",
      "Running Monte Carlo simulation number 120.\n",
      "Running Monte Carlo simulation number 130.\n",
      "Running Monte Carlo simulation number 140.\n",
      "Running Monte Carlo simulation number 150.\n",
      "Running Monte Carlo simulation number 160.\n",
      "Running Monte Carlo simulation number 170.\n",
      "Running Monte Carlo simulation number 180.\n",
      "Running Monte Carlo simulation number 190.\n",
      "Running Monte Carlo simulation number 200.\n",
      "Running Monte Carlo simulation number 210.\n",
      "Running Monte Carlo simulation number 220.\n",
      "Running Monte Carlo simulation number 230.\n",
      "Running Monte Carlo simulation number 240.\n",
      "Running Monte Carlo simulation number 250.\n",
      "Running Monte Carlo simulation number 260.\n",
      "Running Monte Carlo simulation number 270.\n",
      "Running Monte Carlo simulation number 280.\n",
      "Running Monte Carlo simulation number 290.\n",
      "Running Monte Carlo simulation number 300.\n",
      "Running Monte Carlo simulation number 310.\n",
      "Running Monte Carlo simulation number 320.\n",
      "Running Monte Carlo simulation number 330.\n",
      "Running Monte Carlo simulation number 340.\n",
      "Running Monte Carlo simulation number 350.\n",
      "Running Monte Carlo simulation number 360.\n",
      "Running Monte Carlo simulation number 370.\n",
      "Running Monte Carlo simulation number 380.\n",
      "Running Monte Carlo simulation number 390.\n",
      "Running Monte Carlo simulation number 400.\n",
      "Running Monte Carlo simulation number 410.\n",
      "Running Monte Carlo simulation number 420.\n",
      "Running Monte Carlo simulation number 430.\n",
      "Running Monte Carlo simulation number 440.\n",
      "Running Monte Carlo simulation number 450.\n",
      "Running Monte Carlo simulation number 460.\n",
      "Running Monte Carlo simulation number 470.\n",
      "Running Monte Carlo simulation number 480.\n",
      "Running Monte Carlo simulation number 490.\n"
     ]
    },
    {
     "data": {
      "text/html": [
       "<div>\n",
       "<style scoped>\n",
       "    .dataframe tbody tr th:only-of-type {\n",
       "        vertical-align: middle;\n",
       "    }\n",
       "\n",
       "    .dataframe tbody tr th {\n",
       "        vertical-align: top;\n",
       "    }\n",
       "\n",
       "    .dataframe thead th {\n",
       "        text-align: right;\n",
       "    }\n",
       "</style>\n",
       "<table border=\"1\" class=\"dataframe\">\n",
       "  <thead>\n",
       "    <tr style=\"text-align: right;\">\n",
       "      <th></th>\n",
       "      <th>0</th>\n",
       "      <th>1</th>\n",
       "      <th>2</th>\n",
       "      <th>3</th>\n",
       "      <th>4</th>\n",
       "      <th>5</th>\n",
       "      <th>6</th>\n",
       "      <th>7</th>\n",
       "      <th>8</th>\n",
       "      <th>9</th>\n",
       "      <th>...</th>\n",
       "      <th>490</th>\n",
       "      <th>491</th>\n",
       "      <th>492</th>\n",
       "      <th>493</th>\n",
       "      <th>494</th>\n",
       "      <th>495</th>\n",
       "      <th>496</th>\n",
       "      <th>497</th>\n",
       "      <th>498</th>\n",
       "      <th>499</th>\n",
       "    </tr>\n",
       "  </thead>\n",
       "  <tbody>\n",
       "    <tr>\n",
       "      <th>0</th>\n",
       "      <td>1.000000</td>\n",
       "      <td>1.000000</td>\n",
       "      <td>1.000000</td>\n",
       "      <td>1.000000</td>\n",
       "      <td>1.000000</td>\n",
       "      <td>1.000000</td>\n",
       "      <td>1.000000</td>\n",
       "      <td>1.000000</td>\n",
       "      <td>1.000000</td>\n",
       "      <td>1.000000</td>\n",
       "      <td>...</td>\n",
       "      <td>1.000000</td>\n",
       "      <td>1.000000</td>\n",
       "      <td>1.000000</td>\n",
       "      <td>1.000000</td>\n",
       "      <td>1.000000</td>\n",
       "      <td>1.000000</td>\n",
       "      <td>1.000000</td>\n",
       "      <td>1.000000</td>\n",
       "      <td>1.000000</td>\n",
       "      <td>1.000000</td>\n",
       "    </tr>\n",
       "    <tr>\n",
       "      <th>1</th>\n",
       "      <td>0.990555</td>\n",
       "      <td>0.994759</td>\n",
       "      <td>0.998098</td>\n",
       "      <td>1.001018</td>\n",
       "      <td>0.994635</td>\n",
       "      <td>0.995592</td>\n",
       "      <td>1.000474</td>\n",
       "      <td>1.001794</td>\n",
       "      <td>1.007243</td>\n",
       "      <td>0.999627</td>\n",
       "      <td>...</td>\n",
       "      <td>0.992686</td>\n",
       "      <td>1.000097</td>\n",
       "      <td>1.009438</td>\n",
       "      <td>1.001608</td>\n",
       "      <td>1.001525</td>\n",
       "      <td>1.014238</td>\n",
       "      <td>0.998384</td>\n",
       "      <td>1.000099</td>\n",
       "      <td>0.990241</td>\n",
       "      <td>1.012932</td>\n",
       "    </tr>\n",
       "    <tr>\n",
       "      <th>2</th>\n",
       "      <td>0.990342</td>\n",
       "      <td>0.999510</td>\n",
       "      <td>0.995701</td>\n",
       "      <td>0.999157</td>\n",
       "      <td>1.003160</td>\n",
       "      <td>1.000257</td>\n",
       "      <td>0.995598</td>\n",
       "      <td>1.010572</td>\n",
       "      <td>0.986803</td>\n",
       "      <td>1.003001</td>\n",
       "      <td>...</td>\n",
       "      <td>0.989351</td>\n",
       "      <td>0.996637</td>\n",
       "      <td>0.999874</td>\n",
       "      <td>1.001591</td>\n",
       "      <td>0.996465</td>\n",
       "      <td>1.001377</td>\n",
       "      <td>0.998868</td>\n",
       "      <td>1.006960</td>\n",
       "      <td>0.963342</td>\n",
       "      <td>0.997150</td>\n",
       "    </tr>\n",
       "    <tr>\n",
       "      <th>3</th>\n",
       "      <td>0.982926</td>\n",
       "      <td>0.989968</td>\n",
       "      <td>1.006806</td>\n",
       "      <td>1.005278</td>\n",
       "      <td>1.013713</td>\n",
       "      <td>1.004364</td>\n",
       "      <td>1.015432</td>\n",
       "      <td>1.019487</td>\n",
       "      <td>0.985499</td>\n",
       "      <td>1.007063</td>\n",
       "      <td>...</td>\n",
       "      <td>0.992112</td>\n",
       "      <td>0.998306</td>\n",
       "      <td>1.016851</td>\n",
       "      <td>1.013786</td>\n",
       "      <td>0.992354</td>\n",
       "      <td>1.002720</td>\n",
       "      <td>1.001345</td>\n",
       "      <td>1.011252</td>\n",
       "      <td>0.952478</td>\n",
       "      <td>0.996343</td>\n",
       "    </tr>\n",
       "    <tr>\n",
       "      <th>4</th>\n",
       "      <td>0.993419</td>\n",
       "      <td>0.996155</td>\n",
       "      <td>1.000241</td>\n",
       "      <td>1.006931</td>\n",
       "      <td>1.006915</td>\n",
       "      <td>0.993708</td>\n",
       "      <td>1.020103</td>\n",
       "      <td>1.037963</td>\n",
       "      <td>0.978147</td>\n",
       "      <td>1.003876</td>\n",
       "      <td>...</td>\n",
       "      <td>0.989556</td>\n",
       "      <td>0.988518</td>\n",
       "      <td>1.011013</td>\n",
       "      <td>1.013206</td>\n",
       "      <td>0.992247</td>\n",
       "      <td>1.006550</td>\n",
       "      <td>1.018376</td>\n",
       "      <td>1.013450</td>\n",
       "      <td>0.955005</td>\n",
       "      <td>0.995320</td>\n",
       "    </tr>\n",
       "    <tr>\n",
       "      <th>...</th>\n",
       "      <td>...</td>\n",
       "      <td>...</td>\n",
       "      <td>...</td>\n",
       "      <td>...</td>\n",
       "      <td>...</td>\n",
       "      <td>...</td>\n",
       "      <td>...</td>\n",
       "      <td>...</td>\n",
       "      <td>...</td>\n",
       "      <td>...</td>\n",
       "      <td>...</td>\n",
       "      <td>...</td>\n",
       "      <td>...</td>\n",
       "      <td>...</td>\n",
       "      <td>...</td>\n",
       "      <td>...</td>\n",
       "      <td>...</td>\n",
       "      <td>...</td>\n",
       "      <td>...</td>\n",
       "      <td>...</td>\n",
       "      <td>...</td>\n",
       "    </tr>\n",
       "    <tr>\n",
       "      <th>7556</th>\n",
       "      <td>12.222510</td>\n",
       "      <td>12.399709</td>\n",
       "      <td>7.918800</td>\n",
       "      <td>9.336121</td>\n",
       "      <td>11.816532</td>\n",
       "      <td>9.006690</td>\n",
       "      <td>17.760538</td>\n",
       "      <td>10.176141</td>\n",
       "      <td>5.072866</td>\n",
       "      <td>4.123073</td>\n",
       "      <td>...</td>\n",
       "      <td>2.780960</td>\n",
       "      <td>12.799251</td>\n",
       "      <td>13.001707</td>\n",
       "      <td>11.339732</td>\n",
       "      <td>9.671679</td>\n",
       "      <td>11.485321</td>\n",
       "      <td>6.513394</td>\n",
       "      <td>9.526286</td>\n",
       "      <td>8.453424</td>\n",
       "      <td>12.351009</td>\n",
       "    </tr>\n",
       "    <tr>\n",
       "      <th>7557</th>\n",
       "      <td>12.025351</td>\n",
       "      <td>12.387393</td>\n",
       "      <td>7.970288</td>\n",
       "      <td>9.259430</td>\n",
       "      <td>11.812656</td>\n",
       "      <td>9.018239</td>\n",
       "      <td>18.063641</td>\n",
       "      <td>10.149370</td>\n",
       "      <td>5.050859</td>\n",
       "      <td>4.153447</td>\n",
       "      <td>...</td>\n",
       "      <td>2.808153</td>\n",
       "      <td>12.889704</td>\n",
       "      <td>13.080156</td>\n",
       "      <td>11.262661</td>\n",
       "      <td>9.696772</td>\n",
       "      <td>11.410287</td>\n",
       "      <td>6.494488</td>\n",
       "      <td>9.586737</td>\n",
       "      <td>8.509561</td>\n",
       "      <td>12.371065</td>\n",
       "    </tr>\n",
       "    <tr>\n",
       "      <th>7558</th>\n",
       "      <td>12.211313</td>\n",
       "      <td>12.474808</td>\n",
       "      <td>8.024580</td>\n",
       "      <td>9.233736</td>\n",
       "      <td>11.887071</td>\n",
       "      <td>9.026021</td>\n",
       "      <td>17.898174</td>\n",
       "      <td>10.247638</td>\n",
       "      <td>5.148686</td>\n",
       "      <td>4.200077</td>\n",
       "      <td>...</td>\n",
       "      <td>2.860679</td>\n",
       "      <td>13.026356</td>\n",
       "      <td>13.122650</td>\n",
       "      <td>11.081492</td>\n",
       "      <td>9.676630</td>\n",
       "      <td>11.474357</td>\n",
       "      <td>6.529477</td>\n",
       "      <td>9.711842</td>\n",
       "      <td>8.451598</td>\n",
       "      <td>12.447313</td>\n",
       "    </tr>\n",
       "    <tr>\n",
       "      <th>7559</th>\n",
       "      <td>12.086457</td>\n",
       "      <td>12.426223</td>\n",
       "      <td>8.001766</td>\n",
       "      <td>9.242169</td>\n",
       "      <td>11.732093</td>\n",
       "      <td>8.979078</td>\n",
       "      <td>17.735834</td>\n",
       "      <td>10.275227</td>\n",
       "      <td>5.090014</td>\n",
       "      <td>4.142135</td>\n",
       "      <td>...</td>\n",
       "      <td>2.846587</td>\n",
       "      <td>13.070480</td>\n",
       "      <td>13.354027</td>\n",
       "      <td>11.157051</td>\n",
       "      <td>9.657180</td>\n",
       "      <td>11.560772</td>\n",
       "      <td>6.578892</td>\n",
       "      <td>9.703180</td>\n",
       "      <td>8.427982</td>\n",
       "      <td>12.536398</td>\n",
       "    </tr>\n",
       "    <tr>\n",
       "      <th>7560</th>\n",
       "      <td>12.147844</td>\n",
       "      <td>12.279357</td>\n",
       "      <td>7.981715</td>\n",
       "      <td>9.384436</td>\n",
       "      <td>11.697185</td>\n",
       "      <td>8.947180</td>\n",
       "      <td>17.779205</td>\n",
       "      <td>10.214282</td>\n",
       "      <td>5.129928</td>\n",
       "      <td>4.163387</td>\n",
       "      <td>...</td>\n",
       "      <td>2.864751</td>\n",
       "      <td>13.040081</td>\n",
       "      <td>13.247558</td>\n",
       "      <td>11.160490</td>\n",
       "      <td>9.773523</td>\n",
       "      <td>11.513480</td>\n",
       "      <td>6.691477</td>\n",
       "      <td>9.662873</td>\n",
       "      <td>8.440151</td>\n",
       "      <td>12.668685</td>\n",
       "    </tr>\n",
       "  </tbody>\n",
       "</table>\n",
       "<p>7561 rows × 500 columns</p>\n",
       "</div>"
      ],
      "text/plain": [
       "            0          1         2         3          4         5    \\\n",
       "0      1.000000   1.000000  1.000000  1.000000   1.000000  1.000000   \n",
       "1      0.990555   0.994759  0.998098  1.001018   0.994635  0.995592   \n",
       "2      0.990342   0.999510  0.995701  0.999157   1.003160  1.000257   \n",
       "3      0.982926   0.989968  1.006806  1.005278   1.013713  1.004364   \n",
       "4      0.993419   0.996155  1.000241  1.006931   1.006915  0.993708   \n",
       "...         ...        ...       ...       ...        ...       ...   \n",
       "7556  12.222510  12.399709  7.918800  9.336121  11.816532  9.006690   \n",
       "7557  12.025351  12.387393  7.970288  9.259430  11.812656  9.018239   \n",
       "7558  12.211313  12.474808  8.024580  9.233736  11.887071  9.026021   \n",
       "7559  12.086457  12.426223  8.001766  9.242169  11.732093  8.979078   \n",
       "7560  12.147844  12.279357  7.981715  9.384436  11.697185  8.947180   \n",
       "\n",
       "            6          7         8         9    ...       490        491  \\\n",
       "0      1.000000   1.000000  1.000000  1.000000  ...  1.000000   1.000000   \n",
       "1      1.000474   1.001794  1.007243  0.999627  ...  0.992686   1.000097   \n",
       "2      0.995598   1.010572  0.986803  1.003001  ...  0.989351   0.996637   \n",
       "3      1.015432   1.019487  0.985499  1.007063  ...  0.992112   0.998306   \n",
       "4      1.020103   1.037963  0.978147  1.003876  ...  0.989556   0.988518   \n",
       "...         ...        ...       ...       ...  ...       ...        ...   \n",
       "7556  17.760538  10.176141  5.072866  4.123073  ...  2.780960  12.799251   \n",
       "7557  18.063641  10.149370  5.050859  4.153447  ...  2.808153  12.889704   \n",
       "7558  17.898174  10.247638  5.148686  4.200077  ...  2.860679  13.026356   \n",
       "7559  17.735834  10.275227  5.090014  4.142135  ...  2.846587  13.070480   \n",
       "7560  17.779205  10.214282  5.129928  4.163387  ...  2.864751  13.040081   \n",
       "\n",
       "            492        493       494        495       496       497       498  \\\n",
       "0      1.000000   1.000000  1.000000   1.000000  1.000000  1.000000  1.000000   \n",
       "1      1.009438   1.001608  1.001525   1.014238  0.998384  1.000099  0.990241   \n",
       "2      0.999874   1.001591  0.996465   1.001377  0.998868  1.006960  0.963342   \n",
       "3      1.016851   1.013786  0.992354   1.002720  1.001345  1.011252  0.952478   \n",
       "4      1.011013   1.013206  0.992247   1.006550  1.018376  1.013450  0.955005   \n",
       "...         ...        ...       ...        ...       ...       ...       ...   \n",
       "7556  13.001707  11.339732  9.671679  11.485321  6.513394  9.526286  8.453424   \n",
       "7557  13.080156  11.262661  9.696772  11.410287  6.494488  9.586737  8.509561   \n",
       "7558  13.122650  11.081492  9.676630  11.474357  6.529477  9.711842  8.451598   \n",
       "7559  13.354027  11.157051  9.657180  11.560772  6.578892  9.703180  8.427982   \n",
       "7560  13.247558  11.160490  9.773523  11.513480  6.691477  9.662873  8.440151   \n",
       "\n",
       "            499  \n",
       "0      1.000000  \n",
       "1      1.012932  \n",
       "2      0.997150  \n",
       "3      0.996343  \n",
       "4      0.995320  \n",
       "...         ...  \n",
       "7556  12.351009  \n",
       "7557  12.371065  \n",
       "7558  12.447313  \n",
       "7559  12.536398  \n",
       "7560  12.668685  \n",
       "\n",
       "[7561 rows x 500 columns]"
      ]
     },
     "execution_count": 115,
     "metadata": {},
     "output_type": "execute_result"
    }
   ],
   "source": [
    "# Run the Monte Carlo simulation to forecast 30 years cumulative returns.\n",
    "MC_thirtyyear.calc_cumulative_return()"
   ]
  },
  {
   "cell_type": "code",
   "execution_count": 117,
   "metadata": {},
   "outputs": [
    {
     "data": {
      "image/png": "[encoded data removed]",
      "text/plain": [
       "<Figure size 432x288 with 1 Axes>"
      ]
     },
     "metadata": {
      "needs_background": "light"
     },
     "output_type": "display_data"
    }
   ],
   "source": [
    "# Visualizes the 30-year Monte Carlo simulation by creating an overlay line plot.\n",
    "MC_30year_line_plot = MC_thirtyyear.plot_simulation()"
   ]
  },
  {
   "cell_type": "markdown",
   "metadata": {
    "tags": []
   },
   "source": [
    "#### Step 3: Plot the probability distribution of the Monte Carlo simulation."
   ]
  },
  {
   "cell_type": "code",
   "execution_count": 118,
   "metadata": {
    "tags": []
   },
   "outputs": [
    {
     "data": {
      "image/png": "[encoded data removed]",
      "text/plain": [
       "<Figure size 432x288 with 1 Axes>"
      ]
     },
     "metadata": {
      "needs_background": "light"
     },
     "output_type": "display_data"
    }
   ],
   "source": [
    "# Visualizes the probability distribution of the 30-year Monte Carlo simulation by plotting a histogram.\n",
    "MC_30year_dist_plot = MC_thirtyyear.plot_distribution()"
   ]
  },
  {
   "cell_type": "markdown",
   "metadata": {
    "tags": []
   },
   "source": [
    "#### Step 4: Generate the summary statistics for the Monte Carlo simulation."
   ]
  },
  {
   "cell_type": "code",
   "execution_count": 119,
   "metadata": {},
   "outputs": [
    {
     "name": "stdout",
     "output_type": "stream",
     "text": [
      "count           500.000000\n",
      "mean             12.889470\n",
      "std               9.123021\n",
      "min               0.915085\n",
      "25%               6.407826\n",
      "50%              10.207227\n",
      "75%              17.015080\n",
      "max              62.138603\n",
      "95% CI Lower      2.472758\n",
      "95% CI Upper     37.821803\n",
      "Name: 7560, dtype: float64\n"
     ]
    }
   ],
   "source": [
    "# Generates summary statistics from the 30-year Monte Carlo simulation results and saves them to a variable.\n",
    "MC30_summary_statistics = MC_thirtyyear.summarize_cumulative_return()\n",
    "\n",
    "\n",
    "# Reviews the 30-year Monte Carlo summary statistics.\n",
    "print(MC30_summary_statistics)"
   ]
  },
  {
   "cell_type": "code",
   "execution_count": 120,
   "metadata": {},
   "outputs": [],
   "source": [
    "# FutureWarning: The series.append method is depreciated and will be removed from pandas in a future version. Use pandas.concat instead.\n",
    "  # return metrics.append(ci_series)"
   ]
  },
  {
   "cell_type": "markdown",
   "metadata": {},
   "source": [
    "#### Step 5: Analyze the Retirement Portfolio Forecasts."
   ]
  },
  {
   "cell_type": "code",
   "execution_count": 121,
   "metadata": {},
   "outputs": [
    {
     "name": "stdout",
     "output_type": "stream",
     "text": [
      "Current balance of the Stock/Bond portion of the portfolio: $ 60688.70.\n"
     ]
    }
   ],
   "source": [
    "# Prints the current balance of the stock and bond portion of the members portfolio.\n",
    "print(f\"Current balance of the Stock/Bond portion of the portfolio: ${total_stocks_bonds: .2f}.\")"
   ]
  },
  {
   "cell_type": "code",
   "execution_count": 122,
   "metadata": {},
   "outputs": [
    {
     "name": "stdout",
     "output_type": "stream",
     "text": [
      "There is a 95% chance that the portfolio over the next 30 years will end within in the range of $ 150068.48 and $ 2295356.05.\n"
     ]
    }
   ],
   "source": [
    "# Uses the lower and upper `95%` confidence intervals to calculate the range of the possible outcomes for the current stock/bond portfolio.\n",
    "ci_lower_thirty_cumulative_return = MC30_summary_statistics[8] * total_stocks_bonds\n",
    "ci_upper_thirty_cumulative_return = MC30_summary_statistics[9] * total_stocks_bonds\n",
    "\n",
    "# Prints the result of your calculations.\n",
    "print(f\"There is a 95% chance that the portfolio over the next 30 years will end within in the range of \"\n",
    "      f\"${ci_lower_thirty_cumulative_return: .2f} and ${ci_upper_thirty_cumulative_return: .2f}.\")"
   ]
  },
  {
   "cell_type": "markdown",
   "metadata": {
    "tags": []
   },
   "source": [
    "### Repeating Forecast of Cumulative Returns for 10 Years"
   ]
  },
  {
   "cell_type": "markdown",
   "metadata": {},
   "source": [
    "#### Step 1: Using same data from before."
   ]
  },
  {
   "cell_type": "markdown",
   "metadata": {
    "tags": []
   },
   "source": [
    "#### Step 2: Run a Monte Carlo simulation of 500 samples and 10 years for the 80/20 portfolio, and then plot the results."
   ]
  },
  {
   "cell_type": "code",
   "execution_count": 95,
   "metadata": {},
   "outputs": [
    {
     "data": {
      "text/html": [
       "<div>\n",
       "<style scoped>\n",
       "    .dataframe tbody tr th:only-of-type {\n",
       "        vertical-align: middle;\n",
       "    }\n",
       "\n",
       "    .dataframe tbody tr th {\n",
       "        vertical-align: top;\n",
       "    }\n",
       "\n",
       "    .dataframe thead tr th {\n",
       "        text-align: left;\n",
       "    }\n",
       "</style>\n",
       "<table border=\"1\" class=\"dataframe\">\n",
       "  <thead>\n",
       "    <tr>\n",
       "      <th></th>\n",
       "      <th colspan=\"8\" halign=\"left\">SPY</th>\n",
       "      <th colspan=\"8\" halign=\"left\">AGG</th>\n",
       "    </tr>\n",
       "    <tr>\n",
       "      <th></th>\n",
       "      <th>open</th>\n",
       "      <th>high</th>\n",
       "      <th>low</th>\n",
       "      <th>close</th>\n",
       "      <th>volume</th>\n",
       "      <th>trade_count</th>\n",
       "      <th>vwap</th>\n",
       "      <th>daily_return</th>\n",
       "      <th>open</th>\n",
       "      <th>high</th>\n",
       "      <th>low</th>\n",
       "      <th>close</th>\n",
       "      <th>volume</th>\n",
       "      <th>trade_count</th>\n",
       "      <th>vwap</th>\n",
       "      <th>daily_return</th>\n",
       "    </tr>\n",
       "  </thead>\n",
       "  <tbody>\n",
       "    <tr>\n",
       "      <th>2017-08-07</th>\n",
       "      <td>247.50</td>\n",
       "      <td>247.87</td>\n",
       "      <td>247.37</td>\n",
       "      <td>247.87</td>\n",
       "      <td>31995021</td>\n",
       "      <td>100111</td>\n",
       "      <td>247.668698</td>\n",
       "      <td>NaN</td>\n",
       "      <td>109.69</td>\n",
       "      <td>109.72</td>\n",
       "      <td>109.6066</td>\n",
       "      <td>109.67</td>\n",
       "      <td>2359826</td>\n",
       "      <td>7755</td>\n",
       "      <td>109.674876</td>\n",
       "      <td>NaN</td>\n",
       "    </tr>\n",
       "    <tr>\n",
       "      <th>2017-08-08</th>\n",
       "      <td>247.49</td>\n",
       "      <td>248.91</td>\n",
       "      <td>246.83</td>\n",
       "      <td>247.26</td>\n",
       "      <td>61719353</td>\n",
       "      <td>192921</td>\n",
       "      <td>247.739709</td>\n",
       "      <td>-0.002461</td>\n",
       "      <td>109.67</td>\n",
       "      <td>109.69</td>\n",
       "      <td>109.5000</td>\n",
       "      <td>109.57</td>\n",
       "      <td>2570876</td>\n",
       "      <td>12663</td>\n",
       "      <td>109.577636</td>\n",
       "      <td>-0.000912</td>\n",
       "    </tr>\n",
       "    <tr>\n",
       "      <th>2017-08-09</th>\n",
       "      <td>246.46</td>\n",
       "      <td>247.31</td>\n",
       "      <td>246.06</td>\n",
       "      <td>247.25</td>\n",
       "      <td>62632619</td>\n",
       "      <td>223650</td>\n",
       "      <td>246.791421</td>\n",
       "      <td>-0.000040</td>\n",
       "      <td>109.87</td>\n",
       "      <td>109.87</td>\n",
       "      <td>109.6600</td>\n",
       "      <td>109.67</td>\n",
       "      <td>2308932</td>\n",
       "      <td>11031</td>\n",
       "      <td>109.771749</td>\n",
       "      <td>0.000913</td>\n",
       "    </tr>\n",
       "    <tr>\n",
       "      <th>2017-08-10</th>\n",
       "      <td>246.30</td>\n",
       "      <td>246.44</td>\n",
       "      <td>243.70</td>\n",
       "      <td>243.76</td>\n",
       "      <td>120418270</td>\n",
       "      <td>424321</td>\n",
       "      <td>245.027847</td>\n",
       "      <td>-0.014115</td>\n",
       "      <td>109.70</td>\n",
       "      <td>109.85</td>\n",
       "      <td>109.6700</td>\n",
       "      <td>109.78</td>\n",
       "      <td>2004163</td>\n",
       "      <td>12437</td>\n",
       "      <td>109.776611</td>\n",
       "      <td>0.001003</td>\n",
       "    </tr>\n",
       "    <tr>\n",
       "      <th>2017-08-11</th>\n",
       "      <td>244.00</td>\n",
       "      <td>244.80</td>\n",
       "      <td>243.75</td>\n",
       "      <td>244.12</td>\n",
       "      <td>74869947</td>\n",
       "      <td>278786</td>\n",
       "      <td>244.222867</td>\n",
       "      <td>0.001477</td>\n",
       "      <td>109.75</td>\n",
       "      <td>109.94</td>\n",
       "      <td>109.6800</td>\n",
       "      <td>109.87</td>\n",
       "      <td>1913253</td>\n",
       "      <td>10113</td>\n",
       "      <td>109.860974</td>\n",
       "      <td>0.000820</td>\n",
       "    </tr>\n",
       "  </tbody>\n",
       "</table>\n",
       "</div>"
      ],
      "text/plain": [
       "               SPY                                                             \\\n",
       "              open    high     low   close     volume trade_count        vwap   \n",
       "2017-08-07  247.50  247.87  247.37  247.87   31995021      100111  247.668698   \n",
       "2017-08-08  247.49  248.91  246.83  247.26   61719353      192921  247.739709   \n",
       "2017-08-09  246.46  247.31  246.06  247.25   62632619      223650  246.791421   \n",
       "2017-08-10  246.30  246.44  243.70  243.76  120418270      424321  245.027847   \n",
       "2017-08-11  244.00  244.80  243.75  244.12   74869947      278786  244.222867   \n",
       "\n",
       "                            AGG                                     \\\n",
       "           daily_return    open    high       low   close   volume   \n",
       "2017-08-07          NaN  109.69  109.72  109.6066  109.67  2359826   \n",
       "2017-08-08    -0.002461  109.67  109.69  109.5000  109.57  2570876   \n",
       "2017-08-09    -0.000040  109.87  109.87  109.6600  109.67  2308932   \n",
       "2017-08-10    -0.014115  109.70  109.85  109.6700  109.78  2004163   \n",
       "2017-08-11     0.001477  109.75  109.94  109.6800  109.87  1913253   \n",
       "\n",
       "                                                 \n",
       "           trade_count        vwap daily_return  \n",
       "2017-08-07        7755  109.674876          NaN  \n",
       "2017-08-08       12663  109.577636    -0.000912  \n",
       "2017-08-09       11031  109.771749     0.000913  \n",
       "2017-08-10       12437  109.776611     0.001003  \n",
       "2017-08-11       10113  109.860974     0.000820  "
      ]
     },
     "execution_count": 95,
     "metadata": {},
     "output_type": "execute_result"
    }
   ],
   "source": [
    "# Configures a Monte Carlo simulation to forecast 10 years cumulative returns.\n",
    "# The weights should be split 80% to SPY and 20% to AGG and run 500 samples.\n",
    "MC_tenyear = MCSimulation(\n",
    "    portfolio_data = sb3year_prices_df,\n",
    "    weights = [.80,.20],\n",
    "    num_simulation = 500,\n",
    "    num_trading_days = 252*10)\n",
    "\n",
    "# Reviews the simulation input data.\n",
    "MC_thirtyyear.portfolio_data.head()"
   ]
  },
  {
   "cell_type": "code",
   "execution_count": 97,
   "metadata": {},
   "outputs": [
    {
     "name": "stdout",
     "output_type": "stream",
     "text": [
      "Running Monte Carlo simulation number 0.\n",
      "Running Monte Carlo simulation number 10.\n",
      "Running Monte Carlo simulation number 20.\n",
      "Running Monte Carlo simulation number 30.\n",
      "Running Monte Carlo simulation number 40.\n",
      "Running Monte Carlo simulation number 50.\n",
      "Running Monte Carlo simulation number 60.\n",
      "Running Monte Carlo simulation number 70.\n",
      "Running Monte Carlo simulation number 80.\n",
      "Running Monte Carlo simulation number 90.\n",
      "Running Monte Carlo simulation number 100.\n",
      "Running Monte Carlo simulation number 110.\n",
      "Running Monte Carlo simulation number 120.\n",
      "Running Monte Carlo simulation number 130.\n",
      "Running Monte Carlo simulation number 140.\n",
      "Running Monte Carlo simulation number 150.\n",
      "Running Monte Carlo simulation number 160.\n",
      "Running Monte Carlo simulation number 170.\n",
      "Running Monte Carlo simulation number 180.\n",
      "Running Monte Carlo simulation number 190.\n",
      "Running Monte Carlo simulation number 200.\n",
      "Running Monte Carlo simulation number 210.\n",
      "Running Monte Carlo simulation number 220.\n",
      "Running Monte Carlo simulation number 230.\n",
      "Running Monte Carlo simulation number 240.\n",
      "Running Monte Carlo simulation number 250.\n",
      "Running Monte Carlo simulation number 260.\n",
      "Running Monte Carlo simulation number 270.\n",
      "Running Monte Carlo simulation number 280.\n",
      "Running Monte Carlo simulation number 290.\n",
      "Running Monte Carlo simulation number 300.\n",
      "Running Monte Carlo simulation number 310.\n",
      "Running Monte Carlo simulation number 320.\n",
      "Running Monte Carlo simulation number 330.\n",
      "Running Monte Carlo simulation number 340.\n",
      "Running Monte Carlo simulation number 350.\n",
      "Running Monte Carlo simulation number 360.\n",
      "Running Monte Carlo simulation number 370.\n",
      "Running Monte Carlo simulation number 380.\n",
      "Running Monte Carlo simulation number 390.\n",
      "Running Monte Carlo simulation number 400.\n",
      "Running Monte Carlo simulation number 410.\n",
      "Running Monte Carlo simulation number 420.\n",
      "Running Monte Carlo simulation number 430.\n",
      "Running Monte Carlo simulation number 440.\n",
      "Running Monte Carlo simulation number 450.\n",
      "Running Monte Carlo simulation number 460.\n",
      "Running Monte Carlo simulation number 470.\n",
      "Running Monte Carlo simulation number 480.\n",
      "Running Monte Carlo simulation number 490.\n"
     ]
    },
    {
     "data": {
      "text/html": [
       "<div>\n",
       "<style scoped>\n",
       "    .dataframe tbody tr th:only-of-type {\n",
       "        vertical-align: middle;\n",
       "    }\n",
       "\n",
       "    .dataframe tbody tr th {\n",
       "        vertical-align: top;\n",
       "    }\n",
       "\n",
       "    .dataframe thead th {\n",
       "        text-align: right;\n",
       "    }\n",
       "</style>\n",
       "<table border=\"1\" class=\"dataframe\">\n",
       "  <thead>\n",
       "    <tr style=\"text-align: right;\">\n",
       "      <th></th>\n",
       "      <th>0</th>\n",
       "      <th>1</th>\n",
       "      <th>2</th>\n",
       "      <th>3</th>\n",
       "      <th>4</th>\n",
       "      <th>5</th>\n",
       "      <th>6</th>\n",
       "      <th>7</th>\n",
       "      <th>8</th>\n",
       "      <th>9</th>\n",
       "      <th>...</th>\n",
       "      <th>490</th>\n",
       "      <th>491</th>\n",
       "      <th>492</th>\n",
       "      <th>493</th>\n",
       "      <th>494</th>\n",
       "      <th>495</th>\n",
       "      <th>496</th>\n",
       "      <th>497</th>\n",
       "      <th>498</th>\n",
       "      <th>499</th>\n",
       "    </tr>\n",
       "  </thead>\n",
       "  <tbody>\n",
       "    <tr>\n",
       "      <th>0</th>\n",
       "      <td>1.000000</td>\n",
       "      <td>1.000000</td>\n",
       "      <td>1.000000</td>\n",
       "      <td>1.000000</td>\n",
       "      <td>1.000000</td>\n",
       "      <td>1.000000</td>\n",
       "      <td>1.000000</td>\n",
       "      <td>1.000000</td>\n",
       "      <td>1.000000</td>\n",
       "      <td>1.000000</td>\n",
       "      <td>...</td>\n",
       "      <td>1.000000</td>\n",
       "      <td>1.000000</td>\n",
       "      <td>1.000000</td>\n",
       "      <td>1.000000</td>\n",
       "      <td>1.000000</td>\n",
       "      <td>1.000000</td>\n",
       "      <td>1.000000</td>\n",
       "      <td>1.000000</td>\n",
       "      <td>1.000000</td>\n",
       "      <td>1.000000</td>\n",
       "    </tr>\n",
       "    <tr>\n",
       "      <th>1</th>\n",
       "      <td>0.989309</td>\n",
       "      <td>0.997096</td>\n",
       "      <td>1.004026</td>\n",
       "      <td>0.999046</td>\n",
       "      <td>1.001133</td>\n",
       "      <td>1.010959</td>\n",
       "      <td>1.026856</td>\n",
       "      <td>0.998756</td>\n",
       "      <td>1.002001</td>\n",
       "      <td>0.999839</td>\n",
       "      <td>...</td>\n",
       "      <td>0.993996</td>\n",
       "      <td>0.988978</td>\n",
       "      <td>1.014799</td>\n",
       "      <td>0.997621</td>\n",
       "      <td>0.995105</td>\n",
       "      <td>1.013688</td>\n",
       "      <td>1.008123</td>\n",
       "      <td>1.005597</td>\n",
       "      <td>0.968925</td>\n",
       "      <td>1.005515</td>\n",
       "    </tr>\n",
       "    <tr>\n",
       "      <th>2</th>\n",
       "      <td>0.988052</td>\n",
       "      <td>1.016582</td>\n",
       "      <td>1.000674</td>\n",
       "      <td>1.008895</td>\n",
       "      <td>0.997255</td>\n",
       "      <td>1.001107</td>\n",
       "      <td>1.042347</td>\n",
       "      <td>1.002964</td>\n",
       "      <td>1.002898</td>\n",
       "      <td>0.992312</td>\n",
       "      <td>...</td>\n",
       "      <td>0.996258</td>\n",
       "      <td>0.976044</td>\n",
       "      <td>1.027403</td>\n",
       "      <td>1.002711</td>\n",
       "      <td>1.006713</td>\n",
       "      <td>1.000324</td>\n",
       "      <td>1.006407</td>\n",
       "      <td>1.010878</td>\n",
       "      <td>0.968806</td>\n",
       "      <td>1.012759</td>\n",
       "    </tr>\n",
       "    <tr>\n",
       "      <th>3</th>\n",
       "      <td>0.983345</td>\n",
       "      <td>1.048018</td>\n",
       "      <td>0.978217</td>\n",
       "      <td>1.024031</td>\n",
       "      <td>1.001249</td>\n",
       "      <td>1.015370</td>\n",
       "      <td>1.050638</td>\n",
       "      <td>1.017189</td>\n",
       "      <td>1.007660</td>\n",
       "      <td>1.021655</td>\n",
       "      <td>...</td>\n",
       "      <td>0.985980</td>\n",
       "      <td>0.972844</td>\n",
       "      <td>1.039933</td>\n",
       "      <td>1.023320</td>\n",
       "      <td>0.991793</td>\n",
       "      <td>0.996128</td>\n",
       "      <td>1.008944</td>\n",
       "      <td>1.015820</td>\n",
       "      <td>0.962920</td>\n",
       "      <td>1.002865</td>\n",
       "    </tr>\n",
       "    <tr>\n",
       "      <th>4</th>\n",
       "      <td>0.988782</td>\n",
       "      <td>1.061945</td>\n",
       "      <td>0.973049</td>\n",
       "      <td>1.025154</td>\n",
       "      <td>0.979641</td>\n",
       "      <td>1.017561</td>\n",
       "      <td>1.037085</td>\n",
       "      <td>0.988877</td>\n",
       "      <td>1.018728</td>\n",
       "      <td>1.030622</td>\n",
       "      <td>...</td>\n",
       "      <td>0.978840</td>\n",
       "      <td>0.995910</td>\n",
       "      <td>1.051610</td>\n",
       "      <td>1.020918</td>\n",
       "      <td>0.981326</td>\n",
       "      <td>0.962382</td>\n",
       "      <td>1.008488</td>\n",
       "      <td>1.026090</td>\n",
       "      <td>0.948099</td>\n",
       "      <td>0.992550</td>\n",
       "    </tr>\n",
       "    <tr>\n",
       "      <th>...</th>\n",
       "      <td>...</td>\n",
       "      <td>...</td>\n",
       "      <td>...</td>\n",
       "      <td>...</td>\n",
       "      <td>...</td>\n",
       "      <td>...</td>\n",
       "      <td>...</td>\n",
       "      <td>...</td>\n",
       "      <td>...</td>\n",
       "      <td>...</td>\n",
       "      <td>...</td>\n",
       "      <td>...</td>\n",
       "      <td>...</td>\n",
       "      <td>...</td>\n",
       "      <td>...</td>\n",
       "      <td>...</td>\n",
       "      <td>...</td>\n",
       "      <td>...</td>\n",
       "      <td>...</td>\n",
       "      <td>...</td>\n",
       "      <td>...</td>\n",
       "    </tr>\n",
       "    <tr>\n",
       "      <th>2516</th>\n",
       "      <td>2.542801</td>\n",
       "      <td>0.566865</td>\n",
       "      <td>3.830691</td>\n",
       "      <td>2.170888</td>\n",
       "      <td>1.134255</td>\n",
       "      <td>1.110921</td>\n",
       "      <td>1.136122</td>\n",
       "      <td>2.642313</td>\n",
       "      <td>1.943828</td>\n",
       "      <td>2.323150</td>\n",
       "      <td>...</td>\n",
       "      <td>2.146432</td>\n",
       "      <td>2.475087</td>\n",
       "      <td>1.726862</td>\n",
       "      <td>3.795245</td>\n",
       "      <td>3.514357</td>\n",
       "      <td>2.808554</td>\n",
       "      <td>2.706195</td>\n",
       "      <td>2.799747</td>\n",
       "      <td>2.976173</td>\n",
       "      <td>2.404925</td>\n",
       "    </tr>\n",
       "    <tr>\n",
       "      <th>2517</th>\n",
       "      <td>2.565685</td>\n",
       "      <td>0.574466</td>\n",
       "      <td>3.825098</td>\n",
       "      <td>2.163398</td>\n",
       "      <td>1.153608</td>\n",
       "      <td>1.115523</td>\n",
       "      <td>1.127669</td>\n",
       "      <td>2.596454</td>\n",
       "      <td>1.928506</td>\n",
       "      <td>2.349210</td>\n",
       "      <td>...</td>\n",
       "      <td>2.120417</td>\n",
       "      <td>2.492179</td>\n",
       "      <td>1.705536</td>\n",
       "      <td>3.824802</td>\n",
       "      <td>3.474903</td>\n",
       "      <td>2.865593</td>\n",
       "      <td>2.688005</td>\n",
       "      <td>2.809536</td>\n",
       "      <td>3.003180</td>\n",
       "      <td>2.417519</td>\n",
       "    </tr>\n",
       "    <tr>\n",
       "      <th>2518</th>\n",
       "      <td>2.605404</td>\n",
       "      <td>0.580311</td>\n",
       "      <td>3.842931</td>\n",
       "      <td>2.136233</td>\n",
       "      <td>1.123462</td>\n",
       "      <td>1.105698</td>\n",
       "      <td>1.150040</td>\n",
       "      <td>2.578421</td>\n",
       "      <td>1.926478</td>\n",
       "      <td>2.351799</td>\n",
       "      <td>...</td>\n",
       "      <td>2.140556</td>\n",
       "      <td>2.507384</td>\n",
       "      <td>1.681505</td>\n",
       "      <td>3.788401</td>\n",
       "      <td>3.522766</td>\n",
       "      <td>2.896700</td>\n",
       "      <td>2.699039</td>\n",
       "      <td>2.838262</td>\n",
       "      <td>2.999103</td>\n",
       "      <td>2.381665</td>\n",
       "    </tr>\n",
       "    <tr>\n",
       "      <th>2519</th>\n",
       "      <td>2.638139</td>\n",
       "      <td>0.588261</td>\n",
       "      <td>3.854242</td>\n",
       "      <td>2.140562</td>\n",
       "      <td>1.129366</td>\n",
       "      <td>1.126070</td>\n",
       "      <td>1.137381</td>\n",
       "      <td>2.582076</td>\n",
       "      <td>1.928706</td>\n",
       "      <td>2.357510</td>\n",
       "      <td>...</td>\n",
       "      <td>2.160149</td>\n",
       "      <td>2.463882</td>\n",
       "      <td>1.720917</td>\n",
       "      <td>3.833826</td>\n",
       "      <td>3.467159</td>\n",
       "      <td>2.865531</td>\n",
       "      <td>2.692266</td>\n",
       "      <td>2.875069</td>\n",
       "      <td>3.064036</td>\n",
       "      <td>2.394873</td>\n",
       "    </tr>\n",
       "    <tr>\n",
       "      <th>2520</th>\n",
       "      <td>2.589902</td>\n",
       "      <td>0.597666</td>\n",
       "      <td>3.882725</td>\n",
       "      <td>2.105315</td>\n",
       "      <td>1.120001</td>\n",
       "      <td>1.126847</td>\n",
       "      <td>1.142684</td>\n",
       "      <td>2.564846</td>\n",
       "      <td>1.940854</td>\n",
       "      <td>2.354222</td>\n",
       "      <td>...</td>\n",
       "      <td>2.159794</td>\n",
       "      <td>2.426451</td>\n",
       "      <td>1.690632</td>\n",
       "      <td>3.850103</td>\n",
       "      <td>3.476180</td>\n",
       "      <td>2.871795</td>\n",
       "      <td>2.693461</td>\n",
       "      <td>2.896891</td>\n",
       "      <td>3.101139</td>\n",
       "      <td>2.402841</td>\n",
       "    </tr>\n",
       "  </tbody>\n",
       "</table>\n",
       "<p>2521 rows × 500 columns</p>\n",
       "</div>"
      ],
      "text/plain": [
       "           0         1         2         3         4         5         6    \\\n",
       "0     1.000000  1.000000  1.000000  1.000000  1.000000  1.000000  1.000000   \n",
       "1     0.989309  0.997096  1.004026  0.999046  1.001133  1.010959  1.026856   \n",
       "2     0.988052  1.016582  1.000674  1.008895  0.997255  1.001107  1.042347   \n",
       "3     0.983345  1.048018  0.978217  1.024031  1.001249  1.015370  1.050638   \n",
       "4     0.988782  1.061945  0.973049  1.025154  0.979641  1.017561  1.037085   \n",
       "...        ...       ...       ...       ...       ...       ...       ...   \n",
       "2516  2.542801  0.566865  3.830691  2.170888  1.134255  1.110921  1.136122   \n",
       "2517  2.565685  0.574466  3.825098  2.163398  1.153608  1.115523  1.127669   \n",
       "2518  2.605404  0.580311  3.842931  2.136233  1.123462  1.105698  1.150040   \n",
       "2519  2.638139  0.588261  3.854242  2.140562  1.129366  1.126070  1.137381   \n",
       "2520  2.589902  0.597666  3.882725  2.105315  1.120001  1.126847  1.142684   \n",
       "\n",
       "           7         8         9    ...       490       491       492  \\\n",
       "0     1.000000  1.000000  1.000000  ...  1.000000  1.000000  1.000000   \n",
       "1     0.998756  1.002001  0.999839  ...  0.993996  0.988978  1.014799   \n",
       "2     1.002964  1.002898  0.992312  ...  0.996258  0.976044  1.027403   \n",
       "3     1.017189  1.007660  1.021655  ...  0.985980  0.972844  1.039933   \n",
       "4     0.988877  1.018728  1.030622  ...  0.978840  0.995910  1.051610   \n",
       "...        ...       ...       ...  ...       ...       ...       ...   \n",
       "2516  2.642313  1.943828  2.323150  ...  2.146432  2.475087  1.726862   \n",
       "2517  2.596454  1.928506  2.349210  ...  2.120417  2.492179  1.705536   \n",
       "2518  2.578421  1.926478  2.351799  ...  2.140556  2.507384  1.681505   \n",
       "2519  2.582076  1.928706  2.357510  ...  2.160149  2.463882  1.720917   \n",
       "2520  2.564846  1.940854  2.354222  ...  2.159794  2.426451  1.690632   \n",
       "\n",
       "           493       494       495       496       497       498       499  \n",
       "0     1.000000  1.000000  1.000000  1.000000  1.000000  1.000000  1.000000  \n",
       "1     0.997621  0.995105  1.013688  1.008123  1.005597  0.968925  1.005515  \n",
       "2     1.002711  1.006713  1.000324  1.006407  1.010878  0.968806  1.012759  \n",
       "3     1.023320  0.991793  0.996128  1.008944  1.015820  0.962920  1.002865  \n",
       "4     1.020918  0.981326  0.962382  1.008488  1.026090  0.948099  0.992550  \n",
       "...        ...       ...       ...       ...       ...       ...       ...  \n",
       "2516  3.795245  3.514357  2.808554  2.706195  2.799747  2.976173  2.404925  \n",
       "2517  3.824802  3.474903  2.865593  2.688005  2.809536  3.003180  2.417519  \n",
       "2518  3.788401  3.522766  2.896700  2.699039  2.838262  2.999103  2.381665  \n",
       "2519  3.833826  3.467159  2.865531  2.692266  2.875069  3.064036  2.394873  \n",
       "2520  3.850103  3.476180  2.871795  2.693461  2.896891  3.101139  2.402841  \n",
       "\n",
       "[2521 rows x 500 columns]"
      ]
     },
     "execution_count": 97,
     "metadata": {},
     "output_type": "execute_result"
    }
   ],
   "source": [
    "# Runs the Monte Carlo simulation to forecast 10 years cumulative returns.\n",
    "MC_tenyear.calc_cumulative_return()"
   ]
  },
  {
   "cell_type": "code",
   "execution_count": 98,
   "metadata": {},
   "outputs": [
    {
     "data": {
      "image/png": "[encoded data removed]",
      "text/plain": [
       "<Figure size 432x288 with 1 Axes>"
      ]
     },
     "metadata": {
      "needs_background": "light"
     },
     "output_type": "display_data"
    }
   ],
   "source": [
    "# Visualizes the 10-year Monte Carlo simulation by creating an overlay line plot.\n",
    "MC_10year_line_plot = MC_tenyear.plot_simulation()"
   ]
  },
  {
   "cell_type": "markdown",
   "metadata": {
    "tags": []
   },
   "source": [
    "#### Step 3: Plot the probability distribution of the Monte Carlo simulation."
   ]
  },
  {
   "cell_type": "code",
   "execution_count": 100,
   "metadata": {
    "tags": []
   },
   "outputs": [
    {
     "data": {
      "image/png": "[encoded data removed]",
      "text/plain": [
       "<Figure size 432x288 with 1 Axes>"
      ]
     },
     "metadata": {
      "needs_background": "light"
     },
     "output_type": "display_data"
    }
   ],
   "source": [
    "# Visualizes the probability distribution of the 10-year Monte Carlo simulation by plotting a histogram.\n",
    "MC_10year_dist_plot = MC_tenyear.plot_distribution()"
   ]
  },
  {
   "cell_type": "markdown",
   "metadata": {
    "tags": []
   },
   "source": [
    "#### Step 4: Generate the summary statistics for the Monte Carlo simulation."
   ]
  },
  {
   "cell_type": "code",
   "execution_count": 103,
   "metadata": {},
   "outputs": [
    {
     "name": "stdout",
     "output_type": "stream",
     "text": [
      "count           500.000000\n",
      "mean              2.834660\n",
      "std               1.766048\n",
      "min               0.572419\n",
      "25%               1.683489\n",
      "50%               2.442720\n",
      "75%               3.509526\n",
      "max              14.059609\n",
      "95% CI Lower      0.831923\n",
      "95% CI Upper      7.324824\n",
      "Name: 2520, dtype: float64\n"
     ]
    }
   ],
   "source": [
    "# Generates summary statistics from the 10-year Monte Carlo simulation result and saves them to a variable.\n",
    "MC10_summary_statistics = MC_tenyear.summarize_cumulative_return()\n",
    "\n",
    "# Reviews the 10-year Monte Carlo summary statistics\n",
    "print(MC10_summary_statistics)"
   ]
  },
  {
   "cell_type": "code",
   "execution_count": null,
   "metadata": {},
   "outputs": [],
   "source": [
    "# FutureWarning: The series.append method is deprecated and will be removed from pandas in a future version. Use pandas.concat instead.\n",
    "  # return metrics.append(ci_series)"
   ]
  },
  {
   "cell_type": "markdown",
   "metadata": {},
   "source": [
    "#### Step 5: Analyze the Retirement Portfolio Forecasts."
   ]
  },
  {
   "cell_type": "code",
   "execution_count": null,
   "metadata": {},
   "outputs": [],
   "source": [
    "# Prints the current balance of the stock and bond portion of the members portfolio.\n",
    "print(f\"Current balance of the Stock/Bond portion of the portfolio: ${total_stocks_bonds: .2f}.\")"
   ]
  },
  {
   "cell_type": "code",
   "execution_count": 106,
   "metadata": {},
   "outputs": [
    {
     "name": "stdout",
     "output_type": "stream",
     "text": [
      "There is a 95% chance that the portfolio over the next 10 years will end within in the range of $ 50488.31 and $ 444534.02.\n"
     ]
    }
   ],
   "source": [
    "# Uses the lower and upper `95%` confidence intervals to calculate the range of the possible outcomes for the current stock/bond portfolio.\n",
    "ci_lower_ten_cumulative_return = MC10_summary_statistics[8] * total_stocks_bonds\n",
    "ci_upper_ten_cumulative_return = MC10_summary_statistics[9] * total_stocks_bonds\n",
    "\n",
    "# Prints the result of your calculations\n",
    "print(f\"There is a 95% chance that the portfolio over the next 10 years will end within in the range of \"\n",
    "      f\"${ci_lower_ten_cumulative_return: .2f} and ${ci_upper_ten_cumulative_return: .2f}.\")"
   ]
  }
 ],
 "metadata": {
  "kernelspec": {
   "display_name": "Python 3 (ipykernel)",
   "language": "python",
   "name": "python3"
  },
  "language_info": {
   "codemirror_mode": {
    "name": "ipython",
    "version": 3
   },
   "file_extension": ".py",
   "mimetype": "text/x-python",
   "name": "python",
   "nbconvert_exporter": "python",
   "pygments_lexer": "ipython3",
   "version": "3.9.12"
  }
 },
 "nbformat": 4,
 "nbformat_minor": 4
}
